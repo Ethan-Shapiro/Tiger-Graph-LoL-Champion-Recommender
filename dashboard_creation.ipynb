{
 "cells": [
  {
   "cell_type": "code",
   "execution_count": 50,
   "metadata": {},
   "outputs": [],
   "source": [
    "# !pip install pyTigerGraph\n",
    "# !pip install -q jupyter-dash\n",
    "# !pip install python-dotenv\n",
    "# !pip install dash-cytoscape\n",
    "# !pip install dash-bootstrap-components"
   ]
  },
  {
   "cell_type": "code",
   "execution_count": 51,
   "metadata": {},
   "outputs": [],
   "source": [
    "# Imports\n",
    "import pandas as pd\n",
    "import numpy as np\n",
    "import pyTigerGraph as tg\n",
    "import dash\n",
    "from jupyter_dash import JupyterDash\n",
    "from dash import html, dcc, dash_table\n",
    "from dash.dependencies import Input, Output\n",
    "import dash_cytoscape as cyto\n",
    "import dash_bootstrap_components as dbc"
   ]
  },
  {
   "cell_type": "markdown",
   "metadata": {},
   "source": [
    "### Open Connection to Graph"
   ]
  },
  {
   "cell_type": "code",
   "execution_count": 52,
   "metadata": {},
   "outputs": [],
   "source": [
    "# Connection Params\n",
    "hostname = 'https://leaguerecommender.i.tgcloud.io/'\n",
    "username = 'tigergraph'\n",
    "password = 'tigergraph'\n",
    "graphname = 'ChampionRecommendation'"
   ]
  },
  {
   "cell_type": "code",
   "execution_count": 53,
   "metadata": {},
   "outputs": [
    {
     "name": "stdout",
     "output_type": "stream",
     "text": [
      "Connected!\n"
     ]
    }
   ],
   "source": [
    "conn = tg.TigerGraphConnection(host=hostname, username=username, password=password, graphname=graphname)\n",
    "conn.apiToken = conn.getToken(conn.createSecret())\n",
    "\n",
    "print(\"Connected!\") "
   ]
  },
  {
   "cell_type": "markdown",
   "metadata": {},
   "source": [
    "### Create Dashboard"
   ]
  },
  {
   "cell_type": "code",
   "execution_count": 54,
   "metadata": {},
   "outputs": [],
   "source": [
    "app = JupyterDash(external_stylesheets=[dbc.themes.BOOTSTRAP])"
   ]
  },
  {
   "cell_type": "code",
   "execution_count": 55,
   "metadata": {},
   "outputs": [],
   "source": [
    "# Get champion names\n",
    "import json\n",
    "champion_names = None\n",
    "with open('out_data/champions.txt') as f:\n",
    "    champion_names = json.load(f)"
   ]
  },
  {
   "cell_type": "code",
   "execution_count": 56,
   "metadata": {},
   "outputs": [],
   "source": [
    "# Set different lanes\n",
    "lanes = ['Top', 'Jg', 'Mid', 'Bot', 'Sup']"
   ]
  },
  {
   "cell_type": "markdown",
   "metadata": {},
   "source": [
    "## Dropdown functions to update graph"
   ]
  },
  {
   "cell_type": "markdown",
   "metadata": {},
   "source": [
    "#### Main Graph Functions"
   ]
  },
  {
   "cell_type": "code",
   "execution_count": 57,
   "metadata": {},
   "outputs": [],
   "source": [
    "def getNetwork(main_champion):\n",
    "  # Run query\n",
    "  comms = conn.runInstalledQuery(\"GetAllRecs\", params={\"mainChampion\": main_champion})[0]['@@edgeList']\n",
    "\n",
    "  color_map = {'top_rec':'yellow', 'jg_rec': 'green', 'mid_rec': 'blue', 'bot_rec': 'red', 'sup_rec': 'purple'}\n",
    "  vertices = {}\n",
    "  els = []\n",
    "\n",
    "  # Table args\n",
    "  lanes = []\n",
    "  distances = []\n",
    "  champion_name = []\n",
    "  \n",
    "  for entry in comms:\n",
    "    if 'reverse' in entry['e_type']:\n",
    "      continue\n",
    "\n",
    "    # Get to and from nodes\n",
    "    source = entry['from_id']\n",
    "    target = entry['to_id']\n",
    "\n",
    "    # Add initial mainChampion\n",
    "    if source not in vertices:\n",
    "      if source == main_champion:\n",
    "        els.append({'data': {'id': source, 'label': source}, 'classes': 'orange'})\n",
    "\n",
    "    # Add our target if not already present\n",
    "    if target not in vertices:\n",
    "      els.append({'data': {'id': target, 'label': target}, 'classes':color_map[entry['e_type']]})\n",
    "\n",
    "    # Add from and to\n",
    "    els.append({'data': {'source': source, 'target': target}})\n",
    "    \n",
    "    # TABLE VALUES\n",
    "    # Extract lane\n",
    "    lane = entry['e_type'].split('_')[0].capitalize()\n",
    "    \n",
    "    # Add values to table args\n",
    "    lanes.append(lane)\n",
    "    dist = 1-entry['attributes']['dist']\n",
    "    distances.append(\"{:0.4%}\".format(dist))\n",
    "    champion_name.append(target)\n",
    "  \n",
    "  # Create cytoscape network\n",
    "  stylesheet = [{'selector': 'node',\n",
    "                              'style': {\n",
    "                              'content': 'data(label)'\n",
    "                              }\n",
    "                          }]\n",
    "  \n",
    "  for color in color_map.values():\n",
    "    stylesheet.append({\n",
    "                      'selector': f'.{color}',\n",
    "                      'style': {\n",
    "                          'background-color': color,\n",
    "                        }\n",
    "                      }\n",
    "    )\n",
    "  stylesheet.append({\n",
    "    'selector': '.orange',\n",
    "    'style': {\n",
    "      'background-color': 'orange'\n",
    "    }\n",
    "  })\n",
    "\n",
    "  network = cyto.Cytoscape(\n",
    "                  id='cytoscape',\n",
    "                  elements=els,\n",
    "                  layout={'name': 'circle'},\n",
    "                  stylesheet=stylesheet,\n",
    "                style={'width': '100%', 'height': '500px', 'marginRight':'100px'}\n",
    "              )\n",
    "\n",
    "  # Create Table\n",
    "  table_df = pd.DataFrame(data=(zip(champion_name, lanes, distances)), columns=['Champion', 'Lane', 'Similarity'])\n",
    "  table_df = table_df.sort_values(['Lane', 'Similarity'], ascending=False)\n",
    "  # Sort by list\n",
    "  sorter = ['Top', 'Jg', 'Mid', 'Bot', 'Sup']\n",
    "  table_df = table_df.set_index('Lane')\n",
    "  table_df = table_df.loc[sorter, :].reset_index()\n",
    "  \n",
    "  table = html.Div(\n",
    "    dash_table.DataTable(table_df.to_dict('records'), columns=[{\"name\": i, \"id\": i} for i in table_df.columns], id='champion-table',\n",
    "                         cell_selectable=False),\n",
    "    style={'overflowY': 'scroll'}\n",
    "  )\n",
    "\n",
    "  return network, table"
   ]
  },
  {
   "cell_type": "code",
   "execution_count": 58,
   "metadata": {},
   "outputs": [],
   "source": [
    "def get_new_elements(main_champion: str):\n",
    "    comms = conn.runInstalledQuery(\"GetAllRecs\", params={\"mainChampion\": main_champion})[0]['@@edgeList']\n",
    "    color_map = {'top_rec':'yellow', 'jg_rec': 'green', 'mid_rec': 'blue', 'bot_rec': 'red', 'sup_rec': 'purple'}\n",
    "    vertices = {}\n",
    "    els = []\n",
    "    \n",
    "    # Table args\n",
    "    lanes = []\n",
    "    distances = []\n",
    "    champion_name = []\n",
    "    \n",
    "    for entry in comms:\n",
    "        if 'reverse' in entry['e_type']:\n",
    "            continue\n",
    "\n",
    "        # Get to and from nodes\n",
    "        source = entry['from_id']\n",
    "        target = entry['to_id']\n",
    "\n",
    "        # Add initial mainChampion\n",
    "        if source not in vertices:\n",
    "            if source == main_champion:\n",
    "                els.append({'data': {'id': source, 'label': source}, 'classes': 'orange'})\n",
    "\n",
    "        # Add our target if not already present\n",
    "        if target not in vertices:\n",
    "            els.append({'data': {'id': target, 'label': target}, 'classes':color_map[entry['e_type']]})\n",
    "\n",
    "        # Add from and to\n",
    "        els.append({'data': {'source': source, 'target': target}})\n",
    "        \n",
    "        # TABLE VALUES\n",
    "        # Extract lane\n",
    "        lane = entry['e_type'].split('_')[0].capitalize()\n",
    "        \n",
    "        # Add values to table args\n",
    "        lanes.append(lane)\n",
    "        dist = 1-entry['attributes']['dist']\n",
    "        distances.append(\"{:0.4%}\".format(dist))\n",
    "        champion_name.append(target)\n",
    "        \n",
    "        \n",
    "    table_df = pd.DataFrame(data=(zip(champion_name, lanes, distances)), columns=['Champion', 'Lane', 'Similarity'])\n",
    "    table_df = table_df.sort_values(['Lane', 'Similarity'], ascending=False)\n",
    "    # Sort by list\n",
    "    sorter = ['Top', 'Jg', 'Mid', 'Bot', 'Sup']\n",
    "    table_df = table_df.set_index('Lane')\n",
    "    \n",
    "    return els, table_df.loc[sorter, :].reset_index()"
   ]
  },
  {
   "cell_type": "markdown",
   "metadata": {},
   "source": [
    "#### Callback functions"
   ]
  },
  {
   "cell_type": "code",
   "execution_count": 59,
   "metadata": {},
   "outputs": [],
   "source": [
    "@app.callback(Output('cytoscape', 'layout'),\n",
    "              Input('dropdown-update-layout', 'value'))\n",
    "def update_layout(layout):\n",
    "    return {\n",
    "        'name': layout,\n",
    "        'animate': True\n",
    "    }"
   ]
  },
  {
   "cell_type": "code",
   "execution_count": 60,
   "metadata": {},
   "outputs": [],
   "source": [
    "@app.callback(Output('cytoscape', 'elements'),\n",
    "              Output('champion-table', 'data'),\n",
    "              Input('dropdown-update-champion', 'value'))\n",
    "def update_champion_graph(value):\n",
    "    (els, table_df) = get_new_elements(value)\n",
    "    return els, table_df.to_dict('records')"
   ]
  },
  {
   "cell_type": "code",
   "execution_count": 61,
   "metadata": {},
   "outputs": [],
   "source": [
    "@app.callback(\n",
    "    Output('champion-table', 'style_data_conditional'),\n",
    "    Input('cytoscape', 'selectedNodeData'))\n",
    "def highlightSelectedNodeInTable(data):\n",
    "    if not data:\n",
    "        return dash.no_update\n",
    "    \n",
    "    champ = [nodeData['label'] for nodeData in data][-1]\n",
    "    return [{'if': {'filter_query': '{Champion} =' + champ},\n",
    "            'backgroundColor': 'yellow'}]"
   ]
  },
  {
   "cell_type": "markdown",
   "metadata": {},
   "source": [
    "### Lane Graph Functions"
   ]
  },
  {
   "cell_type": "code",
   "execution_count": 62,
   "metadata": {},
   "outputs": [],
   "source": [
    "def getLaneNetwork(main_champion):\n",
    "  comms = conn.runInstalledQuery(\"GetTopRecs\", params={\"mainChampion\": main_champion})[0]['@@edgeList']\n",
    "\n",
    "  color_map = {'top_rec':'yellow', 'jg_rec': 'green', 'mid_rec': 'blue', 'bot_rec': 'red', 'sup_rec': 'purple'}\n",
    "  vertices = {}\n",
    "  els = []\n",
    "  \n",
    "  for entry in comms:\n",
    "    if 'reverse' in entry['e_type']:\n",
    "      continue\n",
    "\n",
    "    # Get to and from nodes\n",
    "    source = entry['from_id']\n",
    "    target = entry['to_id']\n",
    "\n",
    "    # Add initial mainChampion\n",
    "    if source not in vertices:\n",
    "      if source == main_champion:\n",
    "        els.append({'data': {'id': source, 'label': source}, 'classes': 'orange'})\n",
    "\n",
    "    # Add our target if not already present\n",
    "    if target not in vertices:\n",
    "      els.append({'data': {'id': target, 'label': target}, 'classes':color_map[entry['e_type']]})\n",
    "\n",
    "    # Add from and to\n",
    "    els.append({'data': {'source': source, 'target': target}})\n",
    "  \n",
    "  stylesheet = [{'selector': 'node',\n",
    "                              'style': {\n",
    "                              'content': 'data(label)'\n",
    "                              }\n",
    "                          }]\n",
    "  \n",
    "  for color in color_map.values():\n",
    "    stylesheet.append({\n",
    "                      'selector': f'.{color}',\n",
    "                      'style': {\n",
    "                          'background-color': color,\n",
    "                        }\n",
    "                      }\n",
    "    )\n",
    "  stylesheet.append({\n",
    "    'selector': '.orange',\n",
    "    'style': {\n",
    "      'background-color': 'orange'\n",
    "    }\n",
    "  })\n",
    "\n",
    "  network = cyto.Cytoscape(\n",
    "                  id='lanegraph',\n",
    "                  elements=els,\n",
    "                  layout={'name': 'circle'},\n",
    "                  stylesheet=stylesheet,\n",
    "                style={'width': '100%', 'height': '500px'}\n",
    "              )\n",
    "\n",
    "  return network"
   ]
  },
  {
   "cell_type": "code",
   "execution_count": 63,
   "metadata": {},
   "outputs": [],
   "source": [
    "def get_new_lane_elements(main_champion: str, lane: str):\n",
    "    comms = conn.runInstalledQuery(f\"Get{lane}Recs\", params={\"mainChampion\": main_champion})[0]['@@edgeList']\n",
    "    color_map = {'top_rec':'yellow', 'jg_rec': 'green', 'mid_rec': 'blue', 'bot_rec': 'red', 'sup_rec': 'purple'}\n",
    "    vertices = {}\n",
    "    els = []\n",
    "    \n",
    "    for entry in comms:\n",
    "        if 'reverse' in entry['e_type']:\n",
    "            continue\n",
    "\n",
    "        # Get to and from nodes\n",
    "        source = entry['from_id']\n",
    "        target = entry['to_id']\n",
    "\n",
    "        # Add initial mainChampion\n",
    "        if source not in vertices:\n",
    "            if source == main_champion:\n",
    "                els.append({'data': {'id': source, 'label': source}, 'classes': 'orange'})\n",
    "\n",
    "        # Add our target if not already present\n",
    "        if target not in vertices:\n",
    "            els.append({'data': {'id': target, 'label': target}, 'classes':color_map[entry['e_type']]})\n",
    "\n",
    "        # Add from and to\n",
    "        els.append({'data': {'source': source, 'target': target}})\n",
    "        \n",
    "    return els"
   ]
  },
  {
   "cell_type": "markdown",
   "metadata": {},
   "source": [
    "#### Callback functions"
   ]
  },
  {
   "cell_type": "code",
   "execution_count": 64,
   "metadata": {},
   "outputs": [],
   "source": [
    "@app.callback(Output('lanegraph', 'elements'),\n",
    "              Input('dropdown-update-champion', 'value'),\n",
    "              Input('dropdown-update-lane', 'value'))\n",
    "def update_lane_rec_champion(champion, lane):\n",
    "    return get_new_lane_elements(champion, lane)"
   ]
  },
  {
   "cell_type": "markdown",
   "metadata": {},
   "source": [
    "## Dash Elements"
   ]
  },
  {
   "cell_type": "code",
   "execution_count": 65,
   "metadata": {},
   "outputs": [],
   "source": [
    "def title_card():\n",
    "    return dbc.Card([\n",
    "                dbc.CardBody([\n",
    "                              html.Center(html.H1(\"League of Legends Champion Recommender\", className='card-title')),\n",
    "                            ])\n",
    "              ],\n",
    "              color='light', # Options include: primary, secondary, info, success, warning, danger, light, dark\n",
    "              style={\n",
    "                  \"width\":\"98rem\",\n",
    "                  \"marginLeft\":\"1rem\",\n",
    "                  \"marginTop\":\"1rem\",\n",
    "                  \"marginBottom\":\"1rem\"\n",
    "                  }\n",
    "            )"
   ]
  },
  {
   "cell_type": "markdown",
   "metadata": {},
   "source": [
    "### Table"
   ]
  },
  {
   "cell_type": "markdown",
   "metadata": {},
   "source": [
    "### Main Graph Elements"
   ]
  },
  {
   "cell_type": "code",
   "execution_count": 66,
   "metadata": {},
   "outputs": [],
   "source": [
    "def champion_recommendations_card():\n",
    "    (network, table) = getNetwork('Aatrox')\n",
    "    \n",
    "    graph_layout_dropdown = dcc.Dropdown(id='dropdown-update-layout',\n",
    "                                    value='circle',\n",
    "                                    clearable=False,\n",
    "                                    options=[\n",
    "                                        {'label': name.capitalize(), 'value': name}\n",
    "                                        for name in ['grid', 'random', 'circle', 'cose', 'concentric']\n",
    "                                    ])\n",
    "    \n",
    "    network_card = dbc.Card([\n",
    "            dbc.CardBody([\n",
    "                html.H1(\"Champions to play.\", className='card-title'),\n",
    "                graph_layout_dropdown,\n",
    "                network,\n",
    "            ])\n",
    "        ],\n",
    "        outline=True,\n",
    "        color='info',\n",
    "        style={\n",
    "            \"width\": \"100%\",\n",
    "            \"marginRight\":\"1rem\",\n",
    "            \"marginTop\":\"1rem\",\n",
    "            \"marginBottom\":\"1rem\"\n",
    "        }          \n",
    "    )\n",
    "    \n",
    "    table_card = dbc.Card([\n",
    "        dbc.CardBody([\n",
    "            html.H1('Top 3 Champions per Lane', className='card-title'),\n",
    "            html.P(\"Recommendations for other champions to play in every lane.\", className='card-body'),\n",
    "            table\n",
    "        ])\n",
    "    ],\n",
    "    outline=True,\n",
    "    color='info',\n",
    "    style={\n",
    "        \"marginTop\":\"1rem\",\n",
    "        \"marginBottom\":\"1rem\",\n",
    "        \"marginLeft\":\"1rem\",\n",
    "        'maxwidth': '692px'\n",
    "    }               \n",
    "    )\n",
    "    \n",
    "    return network_card, table_card"
   ]
  },
  {
   "cell_type": "markdown",
   "metadata": {},
   "source": [
    "### Lane Recs Graph"
   ]
  },
  {
   "cell_type": "code",
   "execution_count": 67,
   "metadata": {},
   "outputs": [],
   "source": [
    "def champion_lane_recs_card():\n",
    "    network = getLaneNetwork('Aatrox')\n",
    "    dropdown = dcc.Dropdown(id='dropdown-update-lane',\n",
    "                            value='Top',\n",
    "                            options=lanes,\n",
    "                            clearable=False,\n",
    "                            )\n",
    "    return dbc.Card([\n",
    "            dbc.CardBody([\n",
    "                html.H1(\"What champions per lane?\", className='card-title'),\n",
    "                dropdown,\n",
    "                network\n",
    "            ])\n",
    "        ],\n",
    "        outline=True,\n",
    "        color='info',\n",
    "        style={\n",
    "            \"width\": \"100%\",\n",
    "            \"marginRight\":\"5rem\",\n",
    "            \"marginTop\":\"1rem\",\n",
    "            \"marginBottom\":\"1rem\"\n",
    "        }          \n",
    "    )"
   ]
  },
  {
   "cell_type": "code",
   "execution_count": 68,
   "metadata": {},
   "outputs": [],
   "source": [
    "def champion_select_dropdown():\n",
    "    return dcc.Dropdown(id='dropdown-update-champion',\n",
    "                        value='Aatrox',\n",
    "                        options=champion_names,\n",
    "                        clearable=False,\n",
    "                        searchable=True\n",
    "                        )"
   ]
  },
  {
   "cell_type": "markdown",
   "metadata": {},
   "source": [
    "### Champions Who Recommend Card"
   ]
  },
  {
   "cell_type": "code",
   "execution_count": 69,
   "metadata": {},
   "outputs": [],
   "source": [
    "def champsWhoRecStats(main_champion: str):\n",
    "    comms = conn.runInstalledQuery(\"GetChampionsWhoRec\", params={\"mainChampion\": main_champion})[0]['recs']\n",
    "    \n",
    "    count = 0\n",
    "    \n",
    "    lane_counts = {'Top': 0, 'Jg': 0, 'Mid': 0, 'Bot': 0, 'Sup': 0}\n",
    "    \n",
    "    for edge in comms:\n",
    "        count += 1\n",
    "        lane_counts[edge['attributes']['lane'].capitalize()] += 1\n",
    "    \n",
    "    sorted_lane_counts = sorted(lane_counts.items(), key=lambda lane: lane[1], reverse=True)\n",
    "    highest_lane = sorted_lane_counts[0][0]\n",
    "    if sorted_lane_counts[0][1] == 0:\n",
    "        highest_lane = 'None'\n",
    "    \n",
    "    return count, highest_lane"
   ]
  },
  {
   "cell_type": "code",
   "execution_count": 70,
   "metadata": {},
   "outputs": [],
   "source": [
    "def champions_who_rec_card():\n",
    "    (counts, lane) = champsWhoRecStats('Aatrox')\n",
    "    return dbc.Card([\n",
    "        dbc.CardBody([\n",
    "            html.H1(\"Champions who recommend Aatrox\", id='who-recommends-title', className='card-title'),\n",
    "            dbc.Row([\n",
    "                dbc.Col([html.P(f'Number who recommend me: {counts}', id='num-who-recommend')],width=6),\n",
    "                dbc.Col([html.P(f'Recommended the most by: {lane}', id='most-recommended-by')],width=6)\n",
    "            ])\n",
    "        ])\n",
    "    ],\n",
    "    outline=True,\n",
    "    color='info',\n",
    "    style={\n",
    "        \"width\": \"100%\",\n",
    "        \"marginLeft\":\"1rem\",\n",
    "        'maxWidth': '692px',\n",
    "        \"marginTop\":\"1rem\",\n",
    "        \"marginBottom\":\"1rem\"\n",
    "    }  \n",
    ")"
   ]
  },
  {
   "cell_type": "markdown",
   "metadata": {},
   "source": [
    "### Callback functions"
   ]
  },
  {
   "cell_type": "code",
   "execution_count": 71,
   "metadata": {},
   "outputs": [],
   "source": [
    "@app.callback(Output('num-who-recommend', 'children'),\n",
    "              Output('most-recommended-by', 'children'),\n",
    "              Output('who-recommends-title', 'children'),\n",
    "              Input('dropdown-update-champion', 'value'))\n",
    "def updateChampionsWhoRec(main_champion: str):\n",
    "    (count, lane) = champsWhoRecStats(main_champion)\n",
    "    return f'Number who recommend me: {count}', f'Recommended the most by: {lane}', f\"Champions who recommend {main_champion}\""
   ]
  },
  {
   "cell_type": "code",
   "execution_count": 72,
   "metadata": {},
   "outputs": [],
   "source": [
    "network_card, table_card = champion_recommendations_card()"
   ]
  },
  {
   "cell_type": "code",
   "execution_count": 73,
   "metadata": {},
   "outputs": [
    {
     "name": "stdout",
     "output_type": "stream",
     "text": [
      "Dash app running on http://127.0.0.1:8050/\n"
     ]
    }
   ],
   "source": [
    "app.layout = html.Div(\n",
    "    children=[\n",
    "            dbc.Row(children=[\n",
    "            title_card(),\n",
    "            champion_select_dropdown()\n",
    "    ], justify='center'), \n",
    "            dbc.Row([\n",
    "                dbc.Col([\n",
    "                        champions_who_rec_card(),\n",
    "                        table_card\n",
    "                        ], width=6), \n",
    "                dbc.Col([network_card, \n",
    "                         champion_lane_recs_card()\n",
    "                         ], width=6)])]\n",
    ")\n",
    "\n",
    "app.run_server(mode='external', debug=True)"
   ]
  },
  {
   "cell_type": "code",
   "execution_count": null,
   "metadata": {},
   "outputs": [],
   "source": []
  }
 ],
 "metadata": {
  "interpreter": {
   "hash": "d8b23e426a9c693b4aa2462afc6997b239e8381ff9b4a6135e03079b5864c77f"
  },
  "kernelspec": {
   "display_name": "Python 3.9.11 ('env': venv)",
   "language": "python",
   "name": "python3"
  },
  "language_info": {
   "codemirror_mode": {
    "name": "ipython",
    "version": 3
   },
   "file_extension": ".py",
   "mimetype": "text/x-python",
   "name": "python",
   "nbconvert_exporter": "python",
   "pygments_lexer": "ipython3",
   "version": "3.9.11"
  },
  "orig_nbformat": 4
 },
 "nbformat": 4,
 "nbformat_minor": 2
}
