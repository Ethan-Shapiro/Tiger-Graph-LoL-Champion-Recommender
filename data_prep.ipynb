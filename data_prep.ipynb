{
 "cells": [
  {
   "cell_type": "code",
   "execution_count": 1,
   "metadata": {},
   "outputs": [],
   "source": [
    "import os\n",
    "import pandas as pd\n",
    "import numpy as np\n",
    "from scipy import stats"
   ]
  },
  {
   "cell_type": "code",
   "execution_count": 2,
   "metadata": {},
   "outputs": [],
   "source": [
    "def get_regional_csvs(region: str):\n",
    "    \"\"\"\n",
    "    Returns a list of dataframes of by region\n",
    "    \"\"\"\n",
    "    dfs = {}\n",
    "    type_dict = {'Champion1': 'int16', 'Champion2': 'int16',\n",
    "             'Champion3': 'int16', 'Champion4': 'int16',\n",
    "             'Champion5': 'int16'}\n",
    "    for f in os.listdir('data'):\n",
    "        if region in f:\n",
    "            dfs[f.split('_')[1].split('.')[0]] = pd.read_csv(f'data/{f}', dtype=type_dict)\n",
    "    return dfs"
   ]
  },
  {
   "cell_type": "code",
   "execution_count": 15,
   "metadata": {},
   "outputs": [],
   "source": [
    "na_dfs = get_regional_csvs('na')\n",
    "kr_dfs = get_regional_csvs('kr')\n",
    "euw_dfs = get_regional_csvs('euw')"
   ]
  },
  {
   "cell_type": "code",
   "execution_count": 5,
   "metadata": {},
   "outputs": [
    {
     "data": {
      "text/html": [
       "<div>\n",
       "<style scoped>\n",
       "    .dataframe tbody tr th:only-of-type {\n",
       "        vertical-align: middle;\n",
       "    }\n",
       "\n",
       "    .dataframe tbody tr th {\n",
       "        vertical-align: top;\n",
       "    }\n",
       "\n",
       "    .dataframe thead th {\n",
       "        text-align: right;\n",
       "    }\n",
       "</style>\n",
       "<table border=\"1\" class=\"dataframe\">\n",
       "  <thead>\n",
       "    <tr style=\"text-align: right;\">\n",
       "      <th></th>\n",
       "      <th>Champion1</th>\n",
       "      <th>Champion2</th>\n",
       "      <th>Champion3</th>\n",
       "      <th>Champion4</th>\n",
       "      <th>Champion5</th>\n",
       "    </tr>\n",
       "  </thead>\n",
       "  <tbody>\n",
       "    <tr>\n",
       "      <th>0</th>\n",
       "      <td>145</td>\n",
       "      <td>8</td>\n",
       "      <td>555</td>\n",
       "      <td>81</td>\n",
       "      <td>67</td>\n",
       "    </tr>\n",
       "    <tr>\n",
       "      <th>1</th>\n",
       "      <td>84</td>\n",
       "      <td>147</td>\n",
       "      <td>157</td>\n",
       "      <td>235</td>\n",
       "      <td>62</td>\n",
       "    </tr>\n",
       "    <tr>\n",
       "      <th>2</th>\n",
       "      <td>76</td>\n",
       "      <td>64</td>\n",
       "      <td>104</td>\n",
       "      <td>121</td>\n",
       "      <td>131</td>\n",
       "    </tr>\n",
       "    <tr>\n",
       "      <th>3</th>\n",
       "      <td>432</td>\n",
       "      <td>25</td>\n",
       "      <td>38</td>\n",
       "      <td>30</td>\n",
       "      <td>79</td>\n",
       "    </tr>\n",
       "    <tr>\n",
       "      <th>4</th>\n",
       "      <td>29</td>\n",
       "      <td>555</td>\n",
       "      <td>350</td>\n",
       "      <td>235</td>\n",
       "      <td>267</td>\n",
       "    </tr>\n",
       "  </tbody>\n",
       "</table>\n",
       "</div>"
      ],
      "text/plain": [
       "   Champion1  Champion2  Champion3  Champion4  Champion5\n",
       "0        145          8        555         81         67\n",
       "1         84        147        157        235         62\n",
       "2         76         64        104        121        131\n",
       "3        432         25         38         30         79\n",
       "4         29        555        350        235        267"
      ]
     },
     "execution_count": 5,
     "metadata": {},
     "output_type": "execute_result"
    }
   ],
   "source": [
    "na_dfs['diamond'].head()"
   ]
  },
  {
   "cell_type": "code",
   "execution_count": 6,
   "metadata": {},
   "outputs": [
    {
     "data": {
      "text/html": [
       "<div>\n",
       "<style scoped>\n",
       "    .dataframe tbody tr th:only-of-type {\n",
       "        vertical-align: middle;\n",
       "    }\n",
       "\n",
       "    .dataframe tbody tr th {\n",
       "        vertical-align: top;\n",
       "    }\n",
       "\n",
       "    .dataframe thead th {\n",
       "        text-align: right;\n",
       "    }\n",
       "</style>\n",
       "<table border=\"1\" class=\"dataframe\">\n",
       "  <thead>\n",
       "    <tr style=\"text-align: right;\">\n",
       "      <th></th>\n",
       "      <th>Champion1</th>\n",
       "      <th>Champion2</th>\n",
       "      <th>Champion3</th>\n",
       "      <th>Champion4</th>\n",
       "      <th>Champion5</th>\n",
       "    </tr>\n",
       "  </thead>\n",
       "  <tbody>\n",
       "    <tr>\n",
       "      <th>0</th>\n",
       "      <td>45</td>\n",
       "      <td>9</td>\n",
       "      <td>57</td>\n",
       "      <td>60</td>\n",
       "      <td>35</td>\n",
       "    </tr>\n",
       "    <tr>\n",
       "      <th>1</th>\n",
       "      <td>7</td>\n",
       "      <td>64</td>\n",
       "      <td>421</td>\n",
       "      <td>101</td>\n",
       "      <td>69</td>\n",
       "    </tr>\n",
       "    <tr>\n",
       "      <th>2</th>\n",
       "      <td>24</td>\n",
       "      <td>238</td>\n",
       "      <td>122</td>\n",
       "      <td>67</td>\n",
       "      <td>64</td>\n",
       "    </tr>\n",
       "    <tr>\n",
       "      <th>3</th>\n",
       "      <td>35</td>\n",
       "      <td>53</td>\n",
       "      <td>81</td>\n",
       "      <td>555</td>\n",
       "      <td>101</td>\n",
       "    </tr>\n",
       "    <tr>\n",
       "      <th>4</th>\n",
       "      <td>81</td>\n",
       "      <td>523</td>\n",
       "      <td>517</td>\n",
       "      <td>236</td>\n",
       "      <td>777</td>\n",
       "    </tr>\n",
       "  </tbody>\n",
       "</table>\n",
       "</div>"
      ],
      "text/plain": [
       "   Champion1  Champion2  Champion3  Champion4  Champion5\n",
       "0         45          9         57         60         35\n",
       "1          7         64        421        101         69\n",
       "2         24        238        122         67         64\n",
       "3         35         53         81        555        101\n",
       "4         81        523        517        236        777"
      ]
     },
     "execution_count": 6,
     "metadata": {},
     "output_type": "execute_result"
    }
   ],
   "source": [
    "kr_dfs['diamond'].head()"
   ]
  },
  {
   "cell_type": "code",
   "execution_count": 7,
   "metadata": {},
   "outputs": [
    {
     "data": {
      "text/html": [
       "<div>\n",
       "<style scoped>\n",
       "    .dataframe tbody tr th:only-of-type {\n",
       "        vertical-align: middle;\n",
       "    }\n",
       "\n",
       "    .dataframe tbody tr th {\n",
       "        vertical-align: top;\n",
       "    }\n",
       "\n",
       "    .dataframe thead th {\n",
       "        text-align: right;\n",
       "    }\n",
       "</style>\n",
       "<table border=\"1\" class=\"dataframe\">\n",
       "  <thead>\n",
       "    <tr style=\"text-align: right;\">\n",
       "      <th></th>\n",
       "      <th>Champion1</th>\n",
       "      <th>Champion2</th>\n",
       "      <th>Champion3</th>\n",
       "      <th>Champion4</th>\n",
       "      <th>Champion5</th>\n",
       "    </tr>\n",
       "  </thead>\n",
       "  <tbody>\n",
       "    <tr>\n",
       "      <th>0</th>\n",
       "      <td>119</td>\n",
       "      <td>104</td>\n",
       "      <td>67</td>\n",
       "      <td>29</td>\n",
       "      <td>51</td>\n",
       "    </tr>\n",
       "    <tr>\n",
       "      <th>1</th>\n",
       "      <td>68</td>\n",
       "      <td>91</td>\n",
       "      <td>103</td>\n",
       "      <td>51</td>\n",
       "      <td>119</td>\n",
       "    </tr>\n",
       "    <tr>\n",
       "      <th>2</th>\n",
       "      <td>121</td>\n",
       "      <td>141</td>\n",
       "      <td>120</td>\n",
       "      <td>80</td>\n",
       "      <td>5</td>\n",
       "    </tr>\n",
       "    <tr>\n",
       "      <th>3</th>\n",
       "      <td>79</td>\n",
       "      <td>9</td>\n",
       "      <td>106</td>\n",
       "      <td>104</td>\n",
       "      <td>48</td>\n",
       "    </tr>\n",
       "    <tr>\n",
       "      <th>4</th>\n",
       "      <td>4</td>\n",
       "      <td>24</td>\n",
       "      <td>17</td>\n",
       "      <td>121</td>\n",
       "      <td>517</td>\n",
       "    </tr>\n",
       "  </tbody>\n",
       "</table>\n",
       "</div>"
      ],
      "text/plain": [
       "   Champion1  Champion2  Champion3  Champion4  Champion5\n",
       "0        119        104         67         29         51\n",
       "1         68         91        103         51        119\n",
       "2        121        141        120         80          5\n",
       "3         79          9        106        104         48\n",
       "4          4         24         17        121        517"
      ]
     },
     "execution_count": 7,
     "metadata": {},
     "output_type": "execute_result"
    }
   ],
   "source": [
    "euw_dfs['diamond'].head()"
   ]
  },
  {
   "cell_type": "code",
   "execution_count": 19,
   "metadata": {},
   "outputs": [
    {
     "data": {
      "text/html": [
       "<div>\n",
       "<style scoped>\n",
       "    .dataframe tbody tr th:only-of-type {\n",
       "        vertical-align: middle;\n",
       "    }\n",
       "\n",
       "    .dataframe tbody tr th {\n",
       "        vertical-align: top;\n",
       "    }\n",
       "\n",
       "    .dataframe thead th {\n",
       "        text-align: right;\n",
       "    }\n",
       "</style>\n",
       "<table border=\"1\" class=\"dataframe\">\n",
       "  <thead>\n",
       "    <tr style=\"text-align: right;\">\n",
       "      <th></th>\n",
       "      <th>Champion1</th>\n",
       "      <th>Champion2</th>\n",
       "      <th>Champion3</th>\n",
       "      <th>Champion4</th>\n",
       "      <th>Champion5</th>\n",
       "    </tr>\n",
       "  </thead>\n",
       "  <tbody>\n",
       "    <tr>\n",
       "      <th>0</th>\n",
       "      <td>17</td>\n",
       "      <td>25</td>\n",
       "      <td>99</td>\n",
       "      <td>63</td>\n",
       "      <td>43</td>\n",
       "    </tr>\n",
       "    <tr>\n",
       "      <th>1</th>\n",
       "      <td>142</td>\n",
       "      <td>99</td>\n",
       "      <td>223</td>\n",
       "      <td>555</td>\n",
       "      <td>202</td>\n",
       "    </tr>\n",
       "    <tr>\n",
       "      <th>2</th>\n",
       "      <td>16</td>\n",
       "      <td>37</td>\n",
       "      <td>555</td>\n",
       "      <td>25</td>\n",
       "      <td>26</td>\n",
       "    </tr>\n",
       "    <tr>\n",
       "      <th>3</th>\n",
       "      <td>245</td>\n",
       "      <td>104</td>\n",
       "      <td>81</td>\n",
       "      <td>202</td>\n",
       "      <td>11</td>\n",
       "    </tr>\n",
       "    <tr>\n",
       "      <th>4</th>\n",
       "      <td>84</td>\n",
       "      <td>157</td>\n",
       "      <td>11</td>\n",
       "      <td>24</td>\n",
       "      <td>91</td>\n",
       "    </tr>\n",
       "  </tbody>\n",
       "</table>\n",
       "</div>"
      ],
      "text/plain": [
       "   Champion1  Champion2  Champion3  Champion4  Champion5\n",
       "0         17         25         99         63         43\n",
       "1        142         99        223        555        202\n",
       "2         16         37        555         25         26\n",
       "3        245        104         81        202         11\n",
       "4         84        157         11         24         91"
      ]
     },
     "execution_count": 19,
     "metadata": {},
     "output_type": "execute_result"
    }
   ],
   "source": [
    "na_combined = pd.concat(na_dfs.values(), axis=0)\n",
    "na_combined.head()"
   ]
  },
  {
   "cell_type": "code",
   "execution_count": 66,
   "metadata": {},
   "outputs": [
    {
     "name": "stdout",
     "output_type": "stream",
     "text": [
      "<class 'pandas.core.frame.DataFrame'>\n",
      "Int64Index: 6896 entries, 0 to 1040\n",
      "Data columns (total 5 columns):\n",
      " #   Column     Non-Null Count  Dtype\n",
      "---  ------     --------------  -----\n",
      " 0   Champion1  6896 non-null   int16\n",
      " 1   Champion2  6896 non-null   int16\n",
      " 2   Champion3  6896 non-null   int16\n",
      " 3   Champion4  6896 non-null   int16\n",
      " 4   Champion5  6896 non-null   int16\n",
      "dtypes: int16(5)\n",
      "memory usage: 121.2 KB\n"
     ]
    }
   ],
   "source": [
    "na_combined.info()"
   ]
  },
  {
   "cell_type": "code",
   "execution_count": 81,
   "metadata": {},
   "outputs": [
    {
     "data": {
      "text/plain": [
       "Champion1  Champion2  Champion3  Champion4  Champion5\n",
       "99         267        16         37         40           2\n",
       "103        84         99         142        147          2\n",
       "1          3          74         497        267          1\n",
       "145        84         157        81         39           1\n",
       "           81         523        236        202          1\n",
       "                                                        ..\n",
       "75         157        83         62         38           1\n",
       "           145        81         235        134          1\n",
       "           141        45         91         86           1\n",
       "                      8          121        238          1\n",
       "888        412        43         432        16           1\n",
       "Length: 6894, dtype: int64"
      ]
     },
     "execution_count": 81,
     "metadata": {},
     "output_type": "execute_result"
    }
   ],
   "source": [
    "na_combined.value_counts()"
   ]
  },
  {
   "cell_type": "code",
   "execution_count": 90,
   "metadata": {},
   "outputs": [
    {
     "data": {
      "text/plain": [
       "Champion1\n",
       "1      22\n",
       "2      11\n",
       "3      30\n",
       "4      25\n",
       "5      17\n",
       "       ..\n",
       "777    33\n",
       "875    88\n",
       "876     9\n",
       "887     4\n",
       "888     1\n",
       "Length: 159, dtype: int64"
      ]
     },
     "execution_count": 90,
     "metadata": {},
     "output_type": "execute_result"
    }
   ],
   "source": [
    "na_combined.groupby('Champion1').size()"
   ]
  },
  {
   "cell_type": "code",
   "execution_count": 95,
   "metadata": {},
   "outputs": [
    {
     "data": {
      "text/plain": [
       "[1, 2, 3, 4, 5]"
      ]
     },
     "execution_count": 95,
     "metadata": {},
     "output_type": "execute_result"
    }
   ],
   "source": [
    "champion_ids = sorted(na_combined['Champion1'].unique())\n",
    "champion_ids[:5]"
   ]
  },
  {
   "cell_type": "code",
   "execution_count": 116,
   "metadata": {},
   "outputs": [
    {
     "data": {
      "text/html": [
       "<div>\n",
       "<style scoped>\n",
       "    .dataframe tbody tr th:only-of-type {\n",
       "        vertical-align: middle;\n",
       "    }\n",
       "\n",
       "    .dataframe tbody tr th {\n",
       "        vertical-align: top;\n",
       "    }\n",
       "\n",
       "    .dataframe thead th {\n",
       "        text-align: right;\n",
       "    }\n",
       "</style>\n",
       "<table border=\"1\" class=\"dataframe\">\n",
       "  <thead>\n",
       "    <tr style=\"text-align: right;\">\n",
       "      <th></th>\n",
       "      <th>Champion1</th>\n",
       "      <th>Champion2</th>\n",
       "      <th>Champion3</th>\n",
       "      <th>Champion4</th>\n",
       "      <th>Champion5</th>\n",
       "    </tr>\n",
       "  </thead>\n",
       "  <tbody>\n",
       "    <tr>\n",
       "      <th>119</th>\n",
       "      <td>1</td>\n",
       "      <td>99</td>\n",
       "      <td>246</td>\n",
       "      <td>25</td>\n",
       "      <td>518</td>\n",
       "    </tr>\n",
       "    <tr>\n",
       "      <th>183</th>\n",
       "      <td>133</td>\n",
       "      <td>101</td>\n",
       "      <td>53</td>\n",
       "      <td>1</td>\n",
       "      <td>6</td>\n",
       "    </tr>\n",
       "    <tr>\n",
       "      <th>202</th>\n",
       "      <td>22</td>\n",
       "      <td>63</td>\n",
       "      <td>1</td>\n",
       "      <td>21</td>\n",
       "      <td>145</td>\n",
       "    </tr>\n",
       "    <tr>\n",
       "      <th>221</th>\n",
       "      <td>90</td>\n",
       "      <td>3</td>\n",
       "      <td>74</td>\n",
       "      <td>1</td>\n",
       "      <td>86</td>\n",
       "    </tr>\n",
       "    <tr>\n",
       "      <th>233</th>\n",
       "      <td>7</td>\n",
       "      <td>18</td>\n",
       "      <td>222</td>\n",
       "      <td>69</td>\n",
       "      <td>1</td>\n",
       "    </tr>\n",
       "  </tbody>\n",
       "</table>\n",
       "</div>"
      ],
      "text/plain": [
       "     Champion1  Champion2  Champion3  Champion4  Champion5\n",
       "119          1         99        246         25        518\n",
       "183        133        101         53          1          6\n",
       "202         22         63          1         21        145\n",
       "221         90          3         74          1         86\n",
       "233          7         18        222         69          1"
      ]
     },
     "execution_count": 116,
     "metadata": {},
     "output_type": "execute_result"
    }
   ],
   "source": [
    "na_combined[na_combined.isin([1]).any(axis=1)].head()"
   ]
  },
  {
   "cell_type": "code",
   "execution_count": 125,
   "metadata": {},
   "outputs": [
    {
     "data": {
      "text/plain": [
       "1      101\n",
       "99      14\n",
       "202     13\n",
       "45      11\n",
       "245     10\n",
       "      ... \n",
       "15       1\n",
       "76       1\n",
       "41       1\n",
       "56       1\n",
       "34       1\n",
       "Length: 124, dtype: int64"
      ]
     },
     "execution_count": 125,
     "metadata": {},
     "output_type": "execute_result"
    }
   ],
   "source": [
    "pd.value_counts(na_combined[na_combined.isin([1]).any(axis=1)].values.flatten())"
   ]
  },
  {
   "cell_type": "code",
   "execution_count": null,
   "metadata": {},
   "outputs": [],
   "source": []
  },
  {
   "cell_type": "code",
   "execution_count": null,
   "metadata": {},
   "outputs": [],
   "source": [
    "def most_common_ids(id):\n",
    "    # get all rows with the given id\n",
    "    return"
   ]
  },
  {
   "cell_type": "code",
   "execution_count": 98,
   "metadata": {},
   "outputs": [
    {
     "data": {
      "text/plain": [
       "<pandas.core.groupby.generic.DataFrameGroupBy object at 0x7fb690641130>"
      ]
     },
     "execution_count": 98,
     "metadata": {},
     "output_type": "execute_result"
    }
   ],
   "source": [
    "na_combined.groupby('Champion1')"
   ]
  },
  {
   "cell_type": "code",
   "execution_count": 89,
   "metadata": {},
   "outputs": [
    {
     "data": {
      "text/html": [
       "<div>\n",
       "<style scoped>\n",
       "    .dataframe tbody tr th:only-of-type {\n",
       "        vertical-align: middle;\n",
       "    }\n",
       "\n",
       "    .dataframe tbody tr th {\n",
       "        vertical-align: top;\n",
       "    }\n",
       "\n",
       "    .dataframe thead th {\n",
       "        text-align: right;\n",
       "    }\n",
       "</style>\n",
       "<table border=\"1\" class=\"dataframe\">\n",
       "  <thead>\n",
       "    <tr style=\"text-align: right;\">\n",
       "      <th></th>\n",
       "      <th></th>\n",
       "      <th>Champion2</th>\n",
       "    </tr>\n",
       "    <tr>\n",
       "      <th>Champion1</th>\n",
       "      <th>Champion2</th>\n",
       "      <th></th>\n",
       "    </tr>\n",
       "  </thead>\n",
       "  <tbody>\n",
       "    <tr>\n",
       "      <th rowspan=\"5\" valign=\"top\">1</th>\n",
       "      <th>45</th>\n",
       "      <td>2</td>\n",
       "    </tr>\n",
       "    <tr>\n",
       "      <th>99</th>\n",
       "      <td>2</td>\n",
       "    </tr>\n",
       "    <tr>\n",
       "      <th>134</th>\n",
       "      <td>2</td>\n",
       "    </tr>\n",
       "    <tr>\n",
       "      <th>3</th>\n",
       "      <td>1</td>\n",
       "    </tr>\n",
       "    <tr>\n",
       "      <th>8</th>\n",
       "      <td>1</td>\n",
       "    </tr>\n",
       "    <tr>\n",
       "      <th>...</th>\n",
       "      <th>...</th>\n",
       "      <td>...</td>\n",
       "    </tr>\n",
       "    <tr>\n",
       "      <th>876</th>\n",
       "      <th>266</th>\n",
       "      <td>1</td>\n",
       "    </tr>\n",
       "    <tr>\n",
       "      <th rowspan=\"3\" valign=\"top\">887</th>\n",
       "      <th>875</th>\n",
       "      <td>2</td>\n",
       "    </tr>\n",
       "    <tr>\n",
       "      <th>38</th>\n",
       "      <td>1</td>\n",
       "    </tr>\n",
       "    <tr>\n",
       "      <th>518</th>\n",
       "      <td>1</td>\n",
       "    </tr>\n",
       "    <tr>\n",
       "      <th>888</th>\n",
       "      <th>412</th>\n",
       "      <td>1</td>\n",
       "    </tr>\n",
       "  </tbody>\n",
       "</table>\n",
       "<p>3948 rows × 1 columns</p>\n",
       "</div>"
      ],
      "text/plain": [
       "                     Champion2\n",
       "Champion1 Champion2           \n",
       "1         45                 2\n",
       "          99                 2\n",
       "          134                2\n",
       "          3                  1\n",
       "          8                  1\n",
       "...                        ...\n",
       "876       266                1\n",
       "887       875                2\n",
       "          38                 1\n",
       "          518                1\n",
       "888       412                1\n",
       "\n",
       "[3948 rows x 1 columns]"
      ]
     },
     "execution_count": 89,
     "metadata": {},
     "output_type": "execute_result"
    }
   ],
   "source": [
    "na_combined.groupby('Champion1')['Champion2'].value_counts().to_frame()"
   ]
  },
  {
   "cell_type": "code",
   "execution_count": 77,
   "metadata": {},
   "outputs": [
    {
     "data": {
      "text/plain": [
       "99     2\n",
       "134    2\n",
       "45     2\n",
       "18     1\n",
       "31     1\n",
       "11     1\n",
       "77     1\n",
       "143    1\n",
       "53     1\n",
       "58     1\n",
       "8      1\n",
       "202    1\n",
       "117    1\n",
       "30     1\n",
       "131    1\n",
       "157    1\n",
       "63     1\n",
       "875    1\n",
       "3      1\n",
       "Name: Champion2, dtype: int64"
      ]
     },
     "execution_count": 77,
     "metadata": {},
     "output_type": "execute_result"
    }
   ],
   "source": [
    "na_combined[na_combined['Champion1'] == 1]['Champion2'].value_counts()"
   ]
  },
  {
   "cell_type": "code",
   "execution_count": 78,
   "metadata": {},
   "outputs": [
    {
     "data": {
      "text/plain": [
       "103    2\n",
       "61     2\n",
       "22     2\n",
       "246    1\n",
       "12     1\n",
       "32     1\n",
       "17     1\n",
       "16     1\n",
       "98     1\n",
       "102    1\n",
       "203    1\n",
       "64     1\n",
       "112    1\n",
       "222    1\n",
       "90     1\n",
       "29     1\n",
       "5      1\n",
       "245    1\n",
       "74     1\n",
       "Name: Champion3, dtype: int64"
      ]
     },
     "execution_count": 78,
     "metadata": {},
     "output_type": "execute_result"
    }
   ],
   "source": [
    "na_combined[na_combined['Champion1'] == 1]['Champion3'].value_counts()"
   ]
  },
  {
   "cell_type": "code",
   "execution_count": 79,
   "metadata": {},
   "outputs": [
    {
     "data": {
      "text/plain": [
       "25     1\n",
       "29     1\n",
       "497    1\n",
       "420    1\n",
       "103    1\n",
       "245    1\n",
       "30     1\n",
       "58     1\n",
       "203    1\n",
       "127    1\n",
       "201    1\n",
       "82     1\n",
       "421    1\n",
       "98     1\n",
       "81     1\n",
       "18     1\n",
       "63     1\n",
       "11     1\n",
       "31     1\n",
       "120    1\n",
       "202    1\n",
       "59     1\n",
       "Name: Champion4, dtype: int64"
      ]
     },
     "execution_count": 79,
     "metadata": {},
     "output_type": "execute_result"
    }
   ],
   "source": [
    "na_combined[na_combined['Champion1'] == 1]['Champion4'].value_counts()"
   ]
  },
  {
   "cell_type": "code",
   "execution_count": 80,
   "metadata": {},
   "outputs": [
    {
     "data": {
      "text/plain": [
       "45     3\n",
       "267    2\n",
       "518    1\n",
       "13     1\n",
       "74     1\n",
       "75     1\n",
       "28     1\n",
       "18     1\n",
       "497    1\n",
       "117    1\n",
       "91     1\n",
       "145    1\n",
       "22     1\n",
       "56     1\n",
       "238    1\n",
       "50     1\n",
       "77     1\n",
       "141    1\n",
       "134    1\n",
       "Name: Champion5, dtype: int64"
      ]
     },
     "execution_count": 80,
     "metadata": {},
     "output_type": "execute_result"
    }
   ],
   "source": [
    "na_combined[na_combined['Champion1'] == 1]['Champion5'].value_counts()"
   ]
  },
  {
   "cell_type": "code",
   "execution_count": 68,
   "metadata": {},
   "outputs": [
    {
     "data": {
      "text/html": [
       "<div>\n",
       "<style scoped>\n",
       "    .dataframe tbody tr th:only-of-type {\n",
       "        vertical-align: middle;\n",
       "    }\n",
       "\n",
       "    .dataframe tbody tr th {\n",
       "        vertical-align: top;\n",
       "    }\n",
       "\n",
       "    .dataframe thead th {\n",
       "        text-align: right;\n",
       "    }\n",
       "</style>\n",
       "<table border=\"1\" class=\"dataframe\">\n",
       "  <thead>\n",
       "    <tr style=\"text-align: right;\">\n",
       "      <th></th>\n",
       "      <th>Champion2</th>\n",
       "      <th>Champion3</th>\n",
       "      <th>Champion4</th>\n",
       "      <th>Champion5</th>\n",
       "    </tr>\n",
       "    <tr>\n",
       "      <th>Champion1</th>\n",
       "      <th></th>\n",
       "      <th></th>\n",
       "      <th></th>\n",
       "      <th></th>\n",
       "    </tr>\n",
       "  </thead>\n",
       "  <tbody>\n",
       "    <tr>\n",
       "      <th>1</th>\n",
       "      <td>([45], [2])</td>\n",
       "      <td>([22], [2])</td>\n",
       "      <td>([11], [1])</td>\n",
       "      <td>([45], [3])</td>\n",
       "    </tr>\n",
       "    <tr>\n",
       "      <th>2</th>\n",
       "      <td>([3], [1])</td>\n",
       "      <td>([141], [2])</td>\n",
       "      <td>([11], [1])</td>\n",
       "      <td>([5], [1])</td>\n",
       "    </tr>\n",
       "    <tr>\n",
       "      <th>3</th>\n",
       "      <td>([99], [2])</td>\n",
       "      <td>([111], [3])</td>\n",
       "      <td>([104], [2])</td>\n",
       "      <td>([68], [2])</td>\n",
       "    </tr>\n",
       "    <tr>\n",
       "      <th>4</th>\n",
       "      <td>([35], [2])</td>\n",
       "      <td>([112], [4])</td>\n",
       "      <td>([5], [2])</td>\n",
       "      <td>([22], [2])</td>\n",
       "    </tr>\n",
       "    <tr>\n",
       "      <th>5</th>\n",
       "      <td>([64], [3])</td>\n",
       "      <td>([9], [2])</td>\n",
       "      <td>([777], [2])</td>\n",
       "      <td>([11], [2])</td>\n",
       "    </tr>\n",
       "    <tr>\n",
       "      <th>...</th>\n",
       "      <td>...</td>\n",
       "      <td>...</td>\n",
       "      <td>...</td>\n",
       "      <td>...</td>\n",
       "    </tr>\n",
       "    <tr>\n",
       "      <th>777</th>\n",
       "      <td>([157], [6])</td>\n",
       "      <td>([36], [2])</td>\n",
       "      <td>([145], [3])</td>\n",
       "      <td>([157], [6])</td>\n",
       "    </tr>\n",
       "    <tr>\n",
       "      <th>875</th>\n",
       "      <td>([82], [5])</td>\n",
       "      <td>([82], [6])</td>\n",
       "      <td>([157], [4])</td>\n",
       "      <td>([122], [6])</td>\n",
       "    </tr>\n",
       "    <tr>\n",
       "      <th>876</th>\n",
       "      <td>([81], [2])</td>\n",
       "      <td>([3], [1])</td>\n",
       "      <td>([6], [1])</td>\n",
       "      <td>([51], [1])</td>\n",
       "    </tr>\n",
       "    <tr>\n",
       "      <th>887</th>\n",
       "      <td>([875], [2])</td>\n",
       "      <td>([23], [1])</td>\n",
       "      <td>([8], [1])</td>\n",
       "      <td>([82], [1])</td>\n",
       "    </tr>\n",
       "    <tr>\n",
       "      <th>888</th>\n",
       "      <td>([412], [1])</td>\n",
       "      <td>([43], [1])</td>\n",
       "      <td>([432], [1])</td>\n",
       "      <td>([16], [1])</td>\n",
       "    </tr>\n",
       "  </tbody>\n",
       "</table>\n",
       "<p>159 rows × 4 columns</p>\n",
       "</div>"
      ],
      "text/plain": [
       "              Champion2     Champion3     Champion4     Champion5\n",
       "Champion1                                                        \n",
       "1           ([45], [2])   ([22], [2])   ([11], [1])   ([45], [3])\n",
       "2            ([3], [1])  ([141], [2])   ([11], [1])    ([5], [1])\n",
       "3           ([99], [2])  ([111], [3])  ([104], [2])   ([68], [2])\n",
       "4           ([35], [2])  ([112], [4])    ([5], [2])   ([22], [2])\n",
       "5           ([64], [3])    ([9], [2])  ([777], [2])   ([11], [2])\n",
       "...                 ...           ...           ...           ...\n",
       "777        ([157], [6])   ([36], [2])  ([145], [3])  ([157], [6])\n",
       "875         ([82], [5])   ([82], [6])  ([157], [4])  ([122], [6])\n",
       "876         ([81], [2])    ([3], [1])    ([6], [1])   ([51], [1])\n",
       "887        ([875], [2])   ([23], [1])    ([8], [1])   ([82], [1])\n",
       "888        ([412], [1])   ([43], [1])  ([432], [1])   ([16], [1])\n",
       "\n",
       "[159 rows x 4 columns]"
      ]
     },
     "execution_count": 68,
     "metadata": {},
     "output_type": "execute_result"
    }
   ],
   "source": [
    "na_combined.pivot_table(index='Champion1', aggfunc=stats.mode)"
   ]
  },
  {
   "cell_type": "code",
   "execution_count": 16,
   "metadata": {},
   "outputs": [
    {
     "data": {
      "text/html": [
       "<div>\n",
       "<style scoped>\n",
       "    .dataframe tbody tr th:only-of-type {\n",
       "        vertical-align: middle;\n",
       "    }\n",
       "\n",
       "    .dataframe tbody tr th {\n",
       "        vertical-align: top;\n",
       "    }\n",
       "\n",
       "    .dataframe thead th {\n",
       "        text-align: right;\n",
       "    }\n",
       "</style>\n",
       "<table border=\"1\" class=\"dataframe\">\n",
       "  <thead>\n",
       "    <tr style=\"text-align: right;\">\n",
       "      <th></th>\n",
       "      <th>Champion1</th>\n",
       "      <th>Champion2</th>\n",
       "      <th>Champion3</th>\n",
       "      <th>Champion4</th>\n",
       "      <th>Champion5</th>\n",
       "    </tr>\n",
       "  </thead>\n",
       "  <tbody>\n",
       "    <tr>\n",
       "      <th>0</th>\n",
       "      <td>222</td>\n",
       "      <td>21</td>\n",
       "      <td>81</td>\n",
       "      <td>67</td>\n",
       "      <td>28</td>\n",
       "    </tr>\n",
       "    <tr>\n",
       "      <th>1</th>\n",
       "      <td>777</td>\n",
       "      <td>517</td>\n",
       "      <td>64</td>\n",
       "      <td>142</td>\n",
       "      <td>91</td>\n",
       "    </tr>\n",
       "    <tr>\n",
       "      <th>2</th>\n",
       "      <td>876</td>\n",
       "      <td>245</td>\n",
       "      <td>84</td>\n",
       "      <td>517</td>\n",
       "      <td>3</td>\n",
       "    </tr>\n",
       "    <tr>\n",
       "      <th>3</th>\n",
       "      <td>114</td>\n",
       "      <td>126</td>\n",
       "      <td>4</td>\n",
       "      <td>24</td>\n",
       "      <td>266</td>\n",
       "    </tr>\n",
       "    <tr>\n",
       "      <th>4</th>\n",
       "      <td>41</td>\n",
       "      <td>67</td>\n",
       "      <td>266</td>\n",
       "      <td>51</td>\n",
       "      <td>222</td>\n",
       "    </tr>\n",
       "  </tbody>\n",
       "</table>\n",
       "</div>"
      ],
      "text/plain": [
       "   Champion1  Champion2  Champion3  Champion4  Champion5\n",
       "0        222         21         81         67         28\n",
       "1        777        517         64        142         91\n",
       "2        876        245         84        517          3\n",
       "3        114        126          4         24        266\n",
       "4         41         67        266         51        222"
      ]
     },
     "execution_count": 16,
     "metadata": {},
     "output_type": "execute_result"
    }
   ],
   "source": [
    "kr_combined = pd.concat(kr_dfs.values(), axis=0)\n",
    "kr_combined.head()"
   ]
  },
  {
   "cell_type": "code",
   "execution_count": 17,
   "metadata": {},
   "outputs": [
    {
     "data": {
      "text/html": [
       "<div>\n",
       "<style scoped>\n",
       "    .dataframe tbody tr th:only-of-type {\n",
       "        vertical-align: middle;\n",
       "    }\n",
       "\n",
       "    .dataframe tbody tr th {\n",
       "        vertical-align: top;\n",
       "    }\n",
       "\n",
       "    .dataframe thead th {\n",
       "        text-align: right;\n",
       "    }\n",
       "</style>\n",
       "<table border=\"1\" class=\"dataframe\">\n",
       "  <thead>\n",
       "    <tr style=\"text-align: right;\">\n",
       "      <th></th>\n",
       "      <th>Champion1</th>\n",
       "      <th>Champion2</th>\n",
       "      <th>Champion3</th>\n",
       "      <th>Champion4</th>\n",
       "      <th>Champion5</th>\n",
       "    </tr>\n",
       "  </thead>\n",
       "  <tbody>\n",
       "    <tr>\n",
       "      <th>0</th>\n",
       "      <td>555</td>\n",
       "      <td>111</td>\n",
       "      <td>245</td>\n",
       "      <td>145</td>\n",
       "      <td>89</td>\n",
       "    </tr>\n",
       "    <tr>\n",
       "      <th>1</th>\n",
       "      <td>238</td>\n",
       "      <td>157</td>\n",
       "      <td>64</td>\n",
       "      <td>105</td>\n",
       "      <td>875</td>\n",
       "    </tr>\n",
       "    <tr>\n",
       "      <th>2</th>\n",
       "      <td>21</td>\n",
       "      <td>15</td>\n",
       "      <td>25</td>\n",
       "      <td>96</td>\n",
       "      <td>143</td>\n",
       "    </tr>\n",
       "    <tr>\n",
       "      <th>3</th>\n",
       "      <td>202</td>\n",
       "      <td>81</td>\n",
       "      <td>84</td>\n",
       "      <td>141</td>\n",
       "      <td>121</td>\n",
       "    </tr>\n",
       "    <tr>\n",
       "      <th>4</th>\n",
       "      <td>122</td>\n",
       "      <td>24</td>\n",
       "      <td>19</td>\n",
       "      <td>875</td>\n",
       "      <td>82</td>\n",
       "    </tr>\n",
       "  </tbody>\n",
       "</table>\n",
       "</div>"
      ],
      "text/plain": [
       "   Champion1  Champion2  Champion3  Champion4  Champion5\n",
       "0        555        111        245        145         89\n",
       "1        238        157         64        105        875\n",
       "2         21         15         25         96        143\n",
       "3        202         81         84        141        121\n",
       "4        122         24         19        875         82"
      ]
     },
     "execution_count": 17,
     "metadata": {},
     "output_type": "execute_result"
    }
   ],
   "source": [
    "euw_combined = pd.concat(euw_dfs.values(), axis=0)\n",
    "euw_combined.head()"
   ]
  },
  {
   "cell_type": "code",
   "execution_count": 20,
   "metadata": {},
   "outputs": [
    {
     "data": {
      "text/html": [
       "<div>\n",
       "<style scoped>\n",
       "    .dataframe tbody tr th:only-of-type {\n",
       "        vertical-align: middle;\n",
       "    }\n",
       "\n",
       "    .dataframe tbody tr th {\n",
       "        vertical-align: top;\n",
       "    }\n",
       "\n",
       "    .dataframe thead th {\n",
       "        text-align: right;\n",
       "    }\n",
       "</style>\n",
       "<table border=\"1\" class=\"dataframe\">\n",
       "  <thead>\n",
       "    <tr style=\"text-align: right;\">\n",
       "      <th></th>\n",
       "      <th>Champion1</th>\n",
       "      <th>Champion2</th>\n",
       "      <th>Champion3</th>\n",
       "      <th>Champion4</th>\n",
       "      <th>Champion5</th>\n",
       "    </tr>\n",
       "  </thead>\n",
       "  <tbody>\n",
       "    <tr>\n",
       "      <th>0</th>\n",
       "      <td>17</td>\n",
       "      <td>25</td>\n",
       "      <td>99</td>\n",
       "      <td>63</td>\n",
       "      <td>43</td>\n",
       "    </tr>\n",
       "    <tr>\n",
       "      <th>1</th>\n",
       "      <td>142</td>\n",
       "      <td>99</td>\n",
       "      <td>223</td>\n",
       "      <td>555</td>\n",
       "      <td>202</td>\n",
       "    </tr>\n",
       "    <tr>\n",
       "      <th>2</th>\n",
       "      <td>16</td>\n",
       "      <td>37</td>\n",
       "      <td>555</td>\n",
       "      <td>25</td>\n",
       "      <td>26</td>\n",
       "    </tr>\n",
       "    <tr>\n",
       "      <th>3</th>\n",
       "      <td>245</td>\n",
       "      <td>104</td>\n",
       "      <td>81</td>\n",
       "      <td>202</td>\n",
       "      <td>11</td>\n",
       "    </tr>\n",
       "    <tr>\n",
       "      <th>4</th>\n",
       "      <td>84</td>\n",
       "      <td>157</td>\n",
       "      <td>11</td>\n",
       "      <td>24</td>\n",
       "      <td>91</td>\n",
       "    </tr>\n",
       "  </tbody>\n",
       "</table>\n",
       "</div>"
      ],
      "text/plain": [
       "   Champion1  Champion2  Champion3  Champion4  Champion5\n",
       "0         17         25         99         63         43\n",
       "1        142         99        223        555        202\n",
       "2         16         37        555         25         26\n",
       "3        245        104         81        202         11\n",
       "4         84        157         11         24         91"
      ]
     },
     "execution_count": 20,
     "metadata": {},
     "output_type": "execute_result"
    }
   ],
   "source": [
    "all_combined = pd.concat([na_combined, euw_combined, kr_combined], axis=0)\n",
    "all_combined.head()"
   ]
  },
  {
   "cell_type": "code",
   "execution_count": 21,
   "metadata": {},
   "outputs": [
    {
     "data": {
      "text/plain": [
       "(30630, 5)"
      ]
     },
     "execution_count": 21,
     "metadata": {},
     "output_type": "execute_result"
    }
   ],
   "source": [
    "all_combined.shape"
   ]
  },
  {
   "cell_type": "code",
   "execution_count": 29,
   "metadata": {},
   "outputs": [
    {
     "data": {
      "text/plain": [
       "Int64Index([99, 157, 45], dtype='int64')"
      ]
     },
     "execution_count": 29,
     "metadata": {},
     "output_type": "execute_result"
    }
   ],
   "source": [
    "pd.value_counts(all_combined[all_combined.isin([1]).any(axis=1)].values.flatten()).index[1:4]"
   ]
  },
  {
   "cell_type": "code",
   "execution_count": 35,
   "metadata": {},
   "outputs": [],
   "source": [
    "def top3_by_id(id):\n",
    "    return np.array(pd.value_counts(all_combined[all_combined.isin([id]).any(axis=1)].values.flatten()).index[1:4], dtype=np.int16)"
   ]
  },
  {
   "cell_type": "code",
   "execution_count": 37,
   "metadata": {},
   "outputs": [],
   "source": [
    "import json"
   ]
  },
  {
   "cell_type": "code",
   "execution_count": 38,
   "metadata": {},
   "outputs": [],
   "source": [
    "raw_champions = None\n",
    "with open('data/champions.json') as f:\n",
    "    raw_champions = json.load(f)"
   ]
  },
  {
   "cell_type": "code",
   "execution_count": 43,
   "metadata": {},
   "outputs": [
    {
     "data": {
      "text/plain": [
       "'266'"
      ]
     },
     "execution_count": 43,
     "metadata": {},
     "output_type": "execute_result"
    }
   ],
   "source": [
    "int(raw_champions['data']['Aatrox']['key'])"
   ]
  },
  {
   "cell_type": "code",
   "execution_count": 45,
   "metadata": {},
   "outputs": [],
   "source": [
    "champion_ids = []\n",
    "for champ in raw_champions['data'].keys():\n",
    "    champion_ids.append(int(raw_champions['data'][champ]['key']))\n",
    "champion_ids = np.array(champion_ids, dtype=np.int16)"
   ]
  },
  {
   "cell_type": "code",
   "execution_count": 48,
   "metadata": {},
   "outputs": [
    {
     "data": {
      "text/plain": [
       "array([266, 103,  84, 166,  12,  32,  34,   1, 523,  22, 136, 268, 432,\n",
       "        53,  63, 201,  51, 164,  69,  31,  42, 122, 131, 119,  36, 245,\n",
       "        60,  28,  81,   9, 114, 105,   3,  41,  86, 150,  79, 104, 887,\n",
       "       120,  74, 420,  39, 427,  40,  59,  24, 126, 202, 222, 145, 429,\n",
       "        43,  30,  38,  55,  10, 141,  85, 121, 203, 240,  96,   7,  64,\n",
       "        89, 876, 127, 236, 117,  99,  54,  90,  57,  11,  21,  62,  82,\n",
       "        25, 267,  75, 111, 518,  76,  56,  20,   2,  61, 516,  80,  78,\n",
       "       555, 246, 133, 497,  33, 421, 526, 888,  58, 107,  92,  68,  13,\n",
       "       360, 113, 235, 147, 875,  35,  98, 102,  27,  14,  15,  72,  37,\n",
       "        16,  50, 517, 134, 223, 163,  91,  44,  17, 412,  18,  48,  23,\n",
       "         4,  29,  77,   6, 110,  67,  45, 161, 711, 254, 234, 112,   8,\n",
       "       106,  19, 498, 101,   5, 157, 777,  83, 350, 154, 238, 221, 115,\n",
       "        26, 142, 143], dtype=int16)"
      ]
     },
     "execution_count": 48,
     "metadata": {},
     "output_type": "execute_result"
    }
   ],
   "source": [
    "champion_ids"
   ]
  },
  {
   "cell_type": "code",
   "execution_count": 36,
   "metadata": {},
   "outputs": [
    {
     "data": {
      "text/plain": [
       "array([ 64, 104, 141], dtype=int16)"
      ]
     },
     "execution_count": 36,
     "metadata": {},
     "output_type": "execute_result"
    }
   ],
   "source": [
    "top3_by_id(2)"
   ]
  },
  {
   "cell_type": "code",
   "execution_count": 51,
   "metadata": {},
   "outputs": [],
   "source": [
    "champion_ids = sorted(champion_ids)"
   ]
  },
  {
   "cell_type": "code",
   "execution_count": 52,
   "metadata": {},
   "outputs": [],
   "source": [
    "connections = []\n",
    "for id in champion_ids:\n",
    "    connections.append(top3_by_id(id))"
   ]
  },
  {
   "cell_type": "code",
   "execution_count": 54,
   "metadata": {},
   "outputs": [
    {
     "data": {
      "text/html": [
       "<div>\n",
       "<style scoped>\n",
       "    .dataframe tbody tr th:only-of-type {\n",
       "        vertical-align: middle;\n",
       "    }\n",
       "\n",
       "    .dataframe tbody tr th {\n",
       "        vertical-align: top;\n",
       "    }\n",
       "\n",
       "    .dataframe thead th {\n",
       "        text-align: right;\n",
       "    }\n",
       "</style>\n",
       "<table border=\"1\" class=\"dataframe\">\n",
       "  <thead>\n",
       "    <tr style=\"text-align: right;\">\n",
       "      <th></th>\n",
       "      <th>Common1</th>\n",
       "      <th>Common2</th>\n",
       "      <th>Common3</th>\n",
       "    </tr>\n",
       "  </thead>\n",
       "  <tbody>\n",
       "    <tr>\n",
       "      <th>1</th>\n",
       "      <td>99</td>\n",
       "      <td>157</td>\n",
       "      <td>45</td>\n",
       "    </tr>\n",
       "    <tr>\n",
       "      <th>2</th>\n",
       "      <td>64</td>\n",
       "      <td>104</td>\n",
       "      <td>141</td>\n",
       "    </tr>\n",
       "    <tr>\n",
       "      <th>3</th>\n",
       "      <td>517</td>\n",
       "      <td>99</td>\n",
       "      <td>157</td>\n",
       "    </tr>\n",
       "    <tr>\n",
       "      <th>4</th>\n",
       "      <td>81</td>\n",
       "      <td>64</td>\n",
       "      <td>157</td>\n",
       "    </tr>\n",
       "    <tr>\n",
       "      <th>5</th>\n",
       "      <td>64</td>\n",
       "      <td>11</td>\n",
       "      <td>141</td>\n",
       "    </tr>\n",
       "  </tbody>\n",
       "</table>\n",
       "</div>"
      ],
      "text/plain": [
       "   Common1  Common2  Common3\n",
       "1       99      157       45\n",
       "2       64      104      141\n",
       "3      517       99      157\n",
       "4       81       64      157\n",
       "5       64       11      141"
      ]
     },
     "execution_count": 54,
     "metadata": {},
     "output_type": "execute_result"
    }
   ],
   "source": [
    "connections_df = pd.DataFrame(connections, index=champion_ids, columns=['Common1', 'Common2', 'Common3'])\n",
    "connections_df.head()"
   ]
  },
  {
   "cell_type": "code",
   "execution_count": 56,
   "metadata": {},
   "outputs": [
    {
     "data": {
      "text/plain": [
       "(159, 3)"
      ]
     },
     "execution_count": 56,
     "metadata": {},
     "output_type": "execute_result"
    }
   ],
   "source": [
    "connections_df.shape"
   ]
  },
  {
   "cell_type": "code",
   "execution_count": 58,
   "metadata": {},
   "outputs": [],
   "source": [
    "connections_df.to_csv('out_data/champion_connections.csv')"
   ]
  },
  {
   "cell_type": "code",
   "execution_count": null,
   "metadata": {},
   "outputs": [],
   "source": []
  }
 ],
 "metadata": {
  "interpreter": {
   "hash": "d8b23e426a9c693b4aa2462afc6997b239e8381ff9b4a6135e03079b5864c77f"
  },
  "kernelspec": {
   "display_name": "Python 3.9.11 ('env': venv)",
   "language": "python",
   "name": "python3"
  },
  "language_info": {
   "codemirror_mode": {
    "name": "ipython",
    "version": 3
   },
   "file_extension": ".py",
   "mimetype": "text/x-python",
   "name": "python",
   "nbconvert_exporter": "python",
   "pygments_lexer": "ipython3",
   "version": "3.9.11"
  },
  "orig_nbformat": 4
 },
 "nbformat": 4,
 "nbformat_minor": 2
}
