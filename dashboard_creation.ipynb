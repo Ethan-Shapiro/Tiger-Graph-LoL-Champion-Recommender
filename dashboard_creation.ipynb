{
 "cells": [
  {
   "cell_type": "code",
   "execution_count": 15,
   "metadata": {},
   "outputs": [
    {
     "name": "stdout",
     "output_type": "stream",
     "text": [
      "Requirement already satisfied: pyTigerGraph in c:\\repository\\tiger-graph-lol-champion-recommender\\env\\lib\\site-packages (0.0.9.9.2)\n",
      "Requirement already satisfied: validators in c:\\repository\\tiger-graph-lol-champion-recommender\\env\\lib\\site-packages (from pyTigerGraph) (0.18.2)\n",
      "Requirement already satisfied: pyTigerDriver in c:\\repository\\tiger-graph-lol-champion-recommender\\env\\lib\\site-packages (from pyTigerGraph) (1.0.14)\n",
      "Requirement already satisfied: pandas in c:\\repository\\tiger-graph-lol-champion-recommender\\env\\lib\\site-packages (from pyTigerGraph) (1.4.2)\n",
      "Requirement already satisfied: requests in c:\\repository\\tiger-graph-lol-champion-recommender\\env\\lib\\site-packages (from pyTigerGraph) (2.27.1)\n",
      "Requirement already satisfied: numpy>=1.21.0 in c:\\repository\\tiger-graph-lol-champion-recommender\\env\\lib\\site-packages (from pandas->pyTigerGraph) (1.22.3)\n",
      "Requirement already satisfied: pytz>=2020.1 in c:\\repository\\tiger-graph-lol-champion-recommender\\env\\lib\\site-packages (from pandas->pyTigerGraph) (2022.1)\n",
      "Requirement already satisfied: python-dateutil>=2.8.1 in c:\\repository\\tiger-graph-lol-champion-recommender\\env\\lib\\site-packages (from pandas->pyTigerGraph) (2.8.2)\n",
      "Requirement already satisfied: six>=1.5 in c:\\repository\\tiger-graph-lol-champion-recommender\\env\\lib\\site-packages (from python-dateutil>=2.8.1->pandas->pyTigerGraph) (1.16.0)\n",
      "Requirement already satisfied: idna<4,>=2.5 in c:\\repository\\tiger-graph-lol-champion-recommender\\env\\lib\\site-packages (from requests->pyTigerGraph) (3.3)\n",
      "Requirement already satisfied: certifi>=2017.4.17 in c:\\repository\\tiger-graph-lol-champion-recommender\\env\\lib\\site-packages (from requests->pyTigerGraph) (2021.10.8)\n",
      "Requirement already satisfied: urllib3<1.27,>=1.21.1 in c:\\repository\\tiger-graph-lol-champion-recommender\\env\\lib\\site-packages (from requests->pyTigerGraph) (1.26.9)\n",
      "Requirement already satisfied: charset-normalizer~=2.0.0 in c:\\repository\\tiger-graph-lol-champion-recommender\\env\\lib\\site-packages (from requests->pyTigerGraph) (2.0.12)\n",
      "Requirement already satisfied: decorator>=3.4.0 in c:\\repository\\tiger-graph-lol-champion-recommender\\env\\lib\\site-packages (from validators->pyTigerGraph) (5.1.1)\n"
     ]
    },
    {
     "name": "stderr",
     "output_type": "stream",
     "text": [
      "WARNING: You are using pip version 21.2.4; however, version 22.0.4 is available.\n",
      "You should consider upgrading via the 'C:\\Repository\\Tiger-Graph-LoL-Champion-Recommender\\env\\Scripts\\python.exe -m pip install --upgrade pip' command.\n",
      "WARNING: You are using pip version 21.2.4; however, version 22.0.4 is available.\n",
      "You should consider upgrading via the 'C:\\Repository\\Tiger-Graph-LoL-Champion-Recommender\\env\\Scripts\\python.exe -m pip install --upgrade pip' command.\n"
     ]
    },
    {
     "name": "stdout",
     "output_type": "stream",
     "text": [
      "Requirement already satisfied: python-dotenv in c:\\repository\\tiger-graph-lol-champion-recommender\\env\\lib\\site-packages (0.20.0)\n"
     ]
    },
    {
     "name": "stderr",
     "output_type": "stream",
     "text": [
      "WARNING: You are using pip version 21.2.4; however, version 22.0.4 is available.\n",
      "You should consider upgrading via the 'C:\\Repository\\Tiger-Graph-LoL-Champion-Recommender\\env\\Scripts\\python.exe -m pip install --upgrade pip' command.\n"
     ]
    },
    {
     "name": "stdout",
     "output_type": "stream",
     "text": [
      "Requirement already satisfied: dash-cytoscape in c:\\repository\\tiger-graph-lol-champion-recommender\\env\\lib\\site-packages (0.3.0)\n",
      "Requirement already satisfied: dash in c:\\repository\\tiger-graph-lol-champion-recommender\\env\\lib\\site-packages (from dash-cytoscape) (2.3.1)\n",
      "Requirement already satisfied: dash-html-components==2.0.0 in c:\\repository\\tiger-graph-lol-champion-recommender\\env\\lib\\site-packages (from dash->dash-cytoscape) (2.0.0)\n",
      "Requirement already satisfied: dash-table==5.0.0 in c:\\repository\\tiger-graph-lol-champion-recommender\\env\\lib\\site-packages (from dash->dash-cytoscape) (5.0.0)\n",
      "Requirement already satisfied: dash-core-components==2.0.0 in c:\\repository\\tiger-graph-lol-champion-recommender\\env\\lib\\site-packages (from dash->dash-cytoscape) (2.0.0)\n",
      "Requirement already satisfied: plotly>=5.0.0 in c:\\repository\\tiger-graph-lol-champion-recommender\\env\\lib\\site-packages (from dash->dash-cytoscape) (5.7.0)\n",
      "Requirement already satisfied: flask-compress in c:\\repository\\tiger-graph-lol-champion-recommender\\env\\lib\\site-packages (from dash->dash-cytoscape) (1.11)\n",
      "Requirement already satisfied: Flask>=1.0.4 in c:\\repository\\tiger-graph-lol-champion-recommender\\env\\lib\\site-packages (from dash->dash-cytoscape) (2.1.1)\n",
      "Requirement already satisfied: Jinja2>=3.0 in c:\\repository\\tiger-graph-lol-champion-recommender\\env\\lib\\site-packages (from Flask>=1.0.4->dash->dash-cytoscape) (3.1.1)\n",
      "Requirement already satisfied: click>=8.0 in c:\\repository\\tiger-graph-lol-champion-recommender\\env\\lib\\site-packages (from Flask>=1.0.4->dash->dash-cytoscape) (8.1.2)\n",
      "Requirement already satisfied: itsdangerous>=2.0 in c:\\repository\\tiger-graph-lol-champion-recommender\\env\\lib\\site-packages (from Flask>=1.0.4->dash->dash-cytoscape) (2.1.2)\n",
      "Requirement already satisfied: Werkzeug>=2.0 in c:\\repository\\tiger-graph-lol-champion-recommender\\env\\lib\\site-packages (from Flask>=1.0.4->dash->dash-cytoscape) (2.1.1)\n",
      "Requirement already satisfied: colorama in c:\\repository\\tiger-graph-lol-champion-recommender\\env\\lib\\site-packages (from click>=8.0->Flask>=1.0.4->dash->dash-cytoscape) (0.4.4)\n",
      "Requirement already satisfied: MarkupSafe>=2.0 in c:\\repository\\tiger-graph-lol-champion-recommender\\env\\lib\\site-packages (from Jinja2>=3.0->Flask>=1.0.4->dash->dash-cytoscape) (2.1.1)\n",
      "Requirement already satisfied: tenacity>=6.2.0 in c:\\repository\\tiger-graph-lol-champion-recommender\\env\\lib\\site-packages (from plotly>=5.0.0->dash->dash-cytoscape) (8.0.1)\n",
      "Requirement already satisfied: six in c:\\repository\\tiger-graph-lol-champion-recommender\\env\\lib\\site-packages (from plotly>=5.0.0->dash->dash-cytoscape) (1.16.0)\n",
      "Requirement already satisfied: brotli in c:\\repository\\tiger-graph-lol-champion-recommender\\env\\lib\\site-packages (from flask-compress->dash->dash-cytoscape) (1.0.9)\n"
     ]
    },
    {
     "name": "stderr",
     "output_type": "stream",
     "text": [
      "WARNING: You are using pip version 21.2.4; however, version 22.0.4 is available.\n",
      "You should consider upgrading via the 'C:\\Repository\\Tiger-Graph-LoL-Champion-Recommender\\env\\Scripts\\python.exe -m pip install --upgrade pip' command.\n"
     ]
    },
    {
     "name": "stdout",
     "output_type": "stream",
     "text": [
      "Collecting dash-bootstrap-components\n",
      "  Downloading dash_bootstrap_components-1.1.0-py3-none-any.whl (210 kB)\n",
      "Requirement already satisfied: dash>=2.0.0 in c:\\repository\\tiger-graph-lol-champion-recommender\\env\\lib\\site-packages (from dash-bootstrap-components) (2.3.1)\n",
      "Requirement already satisfied: plotly>=5.0.0 in c:\\repository\\tiger-graph-lol-champion-recommender\\env\\lib\\site-packages (from dash>=2.0.0->dash-bootstrap-components) (5.7.0)\n",
      "Requirement already satisfied: dash-core-components==2.0.0 in c:\\repository\\tiger-graph-lol-champion-recommender\\env\\lib\\site-packages (from dash>=2.0.0->dash-bootstrap-components) (2.0.0)\n",
      "Requirement already satisfied: flask-compress in c:\\repository\\tiger-graph-lol-champion-recommender\\env\\lib\\site-packages (from dash>=2.0.0->dash-bootstrap-components) (1.11)\n",
      "Requirement already satisfied: Flask>=1.0.4 in c:\\repository\\tiger-graph-lol-champion-recommender\\env\\lib\\site-packages (from dash>=2.0.0->dash-bootstrap-components) (2.1.1)\n",
      "Requirement already satisfied: dash-table==5.0.0 in c:\\repository\\tiger-graph-lol-champion-recommender\\env\\lib\\site-packages (from dash>=2.0.0->dash-bootstrap-components) (5.0.0)\n",
      "Requirement already satisfied: dash-html-components==2.0.0 in c:\\repository\\tiger-graph-lol-champion-recommender\\env\\lib\\site-packages (from dash>=2.0.0->dash-bootstrap-components) (2.0.0)\n",
      "Requirement already satisfied: click>=8.0 in c:\\repository\\tiger-graph-lol-champion-recommender\\env\\lib\\site-packages (from Flask>=1.0.4->dash>=2.0.0->dash-bootstrap-components) (8.1.2)\n",
      "Requirement already satisfied: Jinja2>=3.0 in c:\\repository\\tiger-graph-lol-champion-recommender\\env\\lib\\site-packages (from Flask>=1.0.4->dash>=2.0.0->dash-bootstrap-components) (3.1.1)\n",
      "Requirement already satisfied: itsdangerous>=2.0 in c:\\repository\\tiger-graph-lol-champion-recommender\\env\\lib\\site-packages (from Flask>=1.0.4->dash>=2.0.0->dash-bootstrap-components) (2.1.2)\n",
      "Requirement already satisfied: Werkzeug>=2.0 in c:\\repository\\tiger-graph-lol-champion-recommender\\env\\lib\\site-packages (from Flask>=1.0.4->dash>=2.0.0->dash-bootstrap-components) (2.1.1)\n",
      "Requirement already satisfied: colorama in c:\\repository\\tiger-graph-lol-champion-recommender\\env\\lib\\site-packages (from click>=8.0->Flask>=1.0.4->dash>=2.0.0->dash-bootstrap-components) (0.4.4)\n",
      "Requirement already satisfied: MarkupSafe>=2.0 in c:\\repository\\tiger-graph-lol-champion-recommender\\env\\lib\\site-packages (from Jinja2>=3.0->Flask>=1.0.4->dash>=2.0.0->dash-bootstrap-components) (2.1.1)\n",
      "Requirement already satisfied: six in c:\\repository\\tiger-graph-lol-champion-recommender\\env\\lib\\site-packages (from plotly>=5.0.0->dash>=2.0.0->dash-bootstrap-components) (1.16.0)\n",
      "Requirement already satisfied: tenacity>=6.2.0 in c:\\repository\\tiger-graph-lol-champion-recommender\\env\\lib\\site-packages (from plotly>=5.0.0->dash>=2.0.0->dash-bootstrap-components) (8.0.1)\n",
      "Requirement already satisfied: brotli in c:\\repository\\tiger-graph-lol-champion-recommender\\env\\lib\\site-packages (from flask-compress->dash>=2.0.0->dash-bootstrap-components) (1.0.9)\n",
      "Installing collected packages: dash-bootstrap-components\n",
      "Successfully installed dash-bootstrap-components-1.1.0\n"
     ]
    },
    {
     "name": "stderr",
     "output_type": "stream",
     "text": [
      "WARNING: You are using pip version 21.2.4; however, version 22.0.4 is available.\n",
      "You should consider upgrading via the 'C:\\Repository\\Tiger-Graph-LoL-Champion-Recommender\\env\\Scripts\\python.exe -m pip install --upgrade pip' command.\n"
     ]
    }
   ],
   "source": [
    "!pip install pyTigerGraph\n",
    "!pip install -q jupyter-dash\n",
    "!pip install python-dotenv\n",
    "!pip install dash-cytoscape\n",
    "!pip install dash-bootstrap-components"
   ]
  },
  {
   "cell_type": "code",
   "execution_count": 9,
   "metadata": {},
   "outputs": [],
   "source": [
    "# Imports\n",
    "import pandas as pd\n",
    "import numpy as np\n",
    "import pyTigerGraph as tg\n",
    "import dash\n",
    "from jupyter_dash import JupyterDash\n",
    "from dash import html, dcc\n",
    "from dash.dependencies import Input, Output\n",
    "import dash_cytoscape as cyto\n",
    "import dash_bootstrap_components as dbc"
   ]
  },
  {
   "cell_type": "markdown",
   "metadata": {},
   "source": [
    "### Open Connection to Graph"
   ]
  },
  {
   "cell_type": "code",
   "execution_count": 2,
   "metadata": {},
   "outputs": [],
   "source": [
    "# Connection Params\n",
    "hostname = 'https://leaguerecommender.i.tgcloud.io/'\n",
    "username = 'tigergraph'\n",
    "password = 'tigergraph'\n",
    "graphname = 'ChampionRecommendation'"
   ]
  },
  {
   "cell_type": "code",
   "execution_count": 3,
   "metadata": {},
   "outputs": [
    {
     "name": "stdout",
     "output_type": "stream",
     "text": [
      "Connected!\n"
     ]
    }
   ],
   "source": [
    "conn = tg.TigerGraphConnection(host=hostname, username=username, password=password, graphname=graphname)\n",
    "conn.apiToken = conn.getToken(conn.createSecret())\n",
    "\n",
    "print(\"Connected!\")"
   ]
  },
  {
   "cell_type": "code",
   "execution_count": 12,
   "metadata": {},
   "outputs": [
    {
     "data": {
      "text/plain": [
       "[{'@@edgeList': [{'e_type': 'top_rec',\n",
       "    'from_id': 'Ziggs',\n",
       "    'from_type': 'champion',\n",
       "    'to_id': 'Teemo',\n",
       "    'to_type': 'champion',\n",
       "    'directed': True,\n",
       "    'attributes': {'dist': 0.13446}},\n",
       "   {'e_type': 'top_rec',\n",
       "    'from_id': 'Ziggs',\n",
       "    'from_type': 'champion',\n",
       "    'to_id': 'Garen',\n",
       "    'to_type': 'champion',\n",
       "    'directed': True,\n",
       "    'attributes': {'dist': 0.15786}},\n",
       "   {'e_type': 'top_rec',\n",
       "    'from_id': 'Ziggs',\n",
       "    'from_type': 'champion',\n",
       "    'to_id': 'Malphite',\n",
       "    'to_type': 'champion',\n",
       "    'directed': True,\n",
       "    'attributes': {'dist': 0.18634}},\n",
       "   {'e_type': 'jg_rec',\n",
       "    'from_id': 'Ziggs',\n",
       "    'from_type': 'champion',\n",
       "    'to_id': 'Nunu',\n",
       "    'to_type': 'champion',\n",
       "    'directed': True,\n",
       "    'attributes': {'dist': 0.11576}},\n",
       "   {'e_type': 'jg_rec',\n",
       "    'from_id': 'Ziggs',\n",
       "    'from_type': 'champion',\n",
       "    'to_id': 'Diana',\n",
       "    'to_type': 'champion',\n",
       "    'directed': True,\n",
       "    'attributes': {'dist': 0.15209}},\n",
       "   {'e_type': 'jg_rec',\n",
       "    'from_id': 'Ziggs',\n",
       "    'from_type': 'champion',\n",
       "    'to_id': 'Shaco',\n",
       "    'to_type': 'champion',\n",
       "    'directed': True,\n",
       "    'attributes': {'dist': 0.14931}},\n",
       "   {'e_type': 'mid_rec',\n",
       "    'from_id': 'Ziggs',\n",
       "    'from_type': 'champion',\n",
       "    'to_id': 'Galio',\n",
       "    'to_type': 'champion',\n",
       "    'directed': True,\n",
       "    'attributes': {'dist': 0.13464}},\n",
       "   {'e_type': 'mid_rec',\n",
       "    'from_id': 'Ziggs',\n",
       "    'from_type': 'champion',\n",
       "    'to_id': 'Veigar',\n",
       "    'to_type': 'champion',\n",
       "    'directed': True,\n",
       "    'attributes': {'dist': 0.13267}},\n",
       "   {'e_type': 'mid_rec',\n",
       "    'from_id': 'Ziggs',\n",
       "    'from_type': 'champion',\n",
       "    'to_id': 'Ahri',\n",
       "    'to_type': 'champion',\n",
       "    'directed': True,\n",
       "    'attributes': {'dist': 0.13063}},\n",
       "   {'e_type': 'bot_rec',\n",
       "    'from_id': 'Ziggs',\n",
       "    'from_type': 'champion',\n",
       "    'to_id': 'Ezreal',\n",
       "    'to_type': 'champion',\n",
       "    'directed': True,\n",
       "    'attributes': {'dist': 0.10296}},\n",
       "   {'e_type': 'bot_rec',\n",
       "    'from_id': 'Ziggs',\n",
       "    'from_type': 'champion',\n",
       "    'to_id': 'Ashe',\n",
       "    'to_type': 'champion',\n",
       "    'directed': True,\n",
       "    'attributes': {'dist': 0.13015}},\n",
       "   {'e_type': 'bot_rec',\n",
       "    'from_id': 'Ziggs',\n",
       "    'from_type': 'champion',\n",
       "    'to_id': 'MissFortune',\n",
       "    'to_type': 'champion',\n",
       "    'directed': True,\n",
       "    'attributes': {'dist': 0.11525}},\n",
       "   {'e_type': 'reverse_bot_rec',\n",
       "    'from_id': 'Ziggs',\n",
       "    'from_type': 'champion',\n",
       "    'to_id': 'Lissandra',\n",
       "    'to_type': 'champion',\n",
       "    'directed': True,\n",
       "    'attributes': {'dist': 0.1157}},\n",
       "   {'e_type': 'sup_rec',\n",
       "    'from_id': 'Ziggs',\n",
       "    'from_type': 'champion',\n",
       "    'to_id': 'Lux',\n",
       "    'to_type': 'champion',\n",
       "    'directed': True,\n",
       "    'attributes': {'dist': 0.07481}},\n",
       "   {'e_type': 'sup_rec',\n",
       "    'from_id': 'Ziggs',\n",
       "    'from_type': 'champion',\n",
       "    'to_id': 'Morgana',\n",
       "    'to_type': 'champion',\n",
       "    'directed': True,\n",
       "    'attributes': {'dist': 0.10338}},\n",
       "   {'e_type': 'sup_rec',\n",
       "    'from_id': 'Ziggs',\n",
       "    'from_type': 'champion',\n",
       "    'to_id': 'Swain',\n",
       "    'to_type': 'champion',\n",
       "    'directed': True,\n",
       "    'attributes': {'dist': 0.11828}}]}]"
      ]
     },
     "execution_count": 12,
     "metadata": {},
     "output_type": "execute_result"
    }
   ],
   "source": [
    "comms = conn.runInstalledQuery(\"GetAllRecs\", params={\"mainChampion\": 'Ziggs'})\n",
    "comms"
   ]
  },
  {
   "cell_type": "markdown",
   "metadata": {},
   "source": [
    "### Create Functions to Call Queries"
   ]
  },
  {
   "cell_type": "code",
   "execution_count": 4,
   "metadata": {},
   "outputs": [],
   "source": [
    "def getNetwork(main_champion):\n",
    "  comms = conn.runInstalledQuery(\"GetAllRecs\", params={\"mainChampion\": main_champion})[0]['@@edgeList']\n",
    "\n",
    "  color_map = {'top_rec':'yellow', 'jg_rec': 'green', 'mid_rec': 'blue', 'bot_rec': 'red', 'sup_rec': 'purple'}\n",
    "  vertices = {}\n",
    "  els = []\n",
    "  \n",
    "  for entry in comms:\n",
    "    if 'reverse' in entry['e_type']:\n",
    "      continue\n",
    "\n",
    "    # Get to and from nodes\n",
    "    source = entry['from_id']\n",
    "    target = entry['to_id']\n",
    "\n",
    "    # Add initial mainChampion\n",
    "    if source not in vertices:\n",
    "      if source == main_champion:\n",
    "        els.append({'data': {'id': source, 'label': source}, 'classes': 'orange'})\n",
    "\n",
    "    # Add our target if not already present\n",
    "    if target not in vertices:\n",
    "      els.append({'data': {'id': target, 'label': target}, 'classes':color_map[entry['e_type']]})\n",
    "\n",
    "    # Add from and to\n",
    "    els.append({'data': {'source': source, 'target': target}})\n",
    "  \n",
    "  stylesheet = [{'selector': 'node',\n",
    "                              'style': {\n",
    "                              'content': 'data(label)'\n",
    "                              }\n",
    "                          }]\n",
    "  \n",
    "  for color in color_map.values():\n",
    "    stylesheet.append({\n",
    "                      'selector': f'.{color}',\n",
    "                      'style': {\n",
    "                          'background-color': color,\n",
    "                        }\n",
    "                      }\n",
    "    )\n",
    "  stylesheet.append({\n",
    "    'selector': '.orange',\n",
    "    'style': {\n",
    "      'background-color': 'orange'\n",
    "    }\n",
    "  })\n",
    "\n",
    "  network = cyto.Cytoscape(\n",
    "                  id='cytoscape',\n",
    "                  elements=els,\n",
    "                  layout={'name': 'concentric'},\n",
    "                  stylesheet=stylesheet,\n",
    "\n",
    "                style={'width': '100%', 'height': '500px', 'margin-left':0}\n",
    "              )\n",
    "\n",
    "  return network"
   ]
  },
  {
   "cell_type": "markdown",
   "metadata": {},
   "source": [
    "### Create Dashboard"
   ]
  },
  {
   "cell_type": "code",
   "execution_count": 16,
   "metadata": {},
   "outputs": [],
   "source": [
    "app = JupyterDash(__name__, external_stylesheets=[dbc.themes.BOOTSTRAP])"
   ]
  },
  {
   "cell_type": "code",
   "execution_count": 17,
   "metadata": {},
   "outputs": [],
   "source": [
    "@app.callback(Output('cytoscape', 'layout'),\n",
    "              Input('dropdown-update-layout', 'value'))\n",
    "def update_layout(layout):\n",
    "    return {\n",
    "        'name': layout,\n",
    "        'animate': True\n",
    "    }"
   ]
  },
  {
   "cell_type": "code",
   "execution_count": 18,
   "metadata": {},
   "outputs": [
    {
     "name": "stdout",
     "output_type": "stream",
     "text": [
      "Dash app running on http://127.0.0.1:8050/\n"
     ]
    }
   ],
   "source": [
    "app.layout = html.Div(children=[\n",
    "    html.P(children='Hello Dash'),\n",
    "    dcc.Dropdown(\n",
    "        id='dropdown-update-layout',\n",
    "        value='concentric',\n",
    "        clearable=False,\n",
    "        options=[\n",
    "            {'label': name.capitalize(), 'value': name}\n",
    "            for name in ['grid', 'random', 'circle', 'cose', 'concentric']\n",
    "        ]\n",
    "    ),\n",
    "    dbc.Row(getNetwork('Ziggs'))\n",
    "])\n",
    "\n",
    "app.run_server(mode='external', debug=True)"
   ]
  },
  {
   "cell_type": "code",
   "execution_count": null,
   "metadata": {},
   "outputs": [],
   "source": []
  }
 ],
 "metadata": {
  "interpreter": {
   "hash": "d8b23e426a9c693b4aa2462afc6997b239e8381ff9b4a6135e03079b5864c77f"
  },
  "kernelspec": {
   "display_name": "Python 3.9.11 ('env': venv)",
   "language": "python",
   "name": "python3"
  },
  "language_info": {
   "codemirror_mode": {
    "name": "ipython",
    "version": 3
   },
   "file_extension": ".py",
   "mimetype": "text/x-python",
   "name": "python",
   "nbconvert_exporter": "python",
   "pygments_lexer": "ipython3",
   "version": "3.10.1"
  },
  "orig_nbformat": 4
 },
 "nbformat": 4,
 "nbformat_minor": 2
}
