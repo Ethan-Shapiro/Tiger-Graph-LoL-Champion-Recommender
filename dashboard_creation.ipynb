{
 "cells": [
  {
   "cell_type": "code",
   "execution_count": 1,
   "metadata": {},
   "outputs": [],
   "source": [
    "# !pip install pyTigerGraph\n",
    "# !pip install -q jupyter-dash\n",
    "# !pip install python-dotenv\n",
    "# !pip install dash-cytoscape\n",
    "# !pip install dash-bootstrap-components"
   ]
  },
  {
   "cell_type": "code",
   "execution_count": 2,
   "metadata": {},
   "outputs": [],
   "source": [
    "# Imports\n",
    "import pandas as pd\n",
    "import numpy as np\n",
    "import pyTigerGraph as tg\n",
    "import dash\n",
    "from jupyter_dash import JupyterDash\n",
    "from dash import html, dcc, dash_table\n",
    "from dash.dependencies import Input, Output\n",
    "import dash_cytoscape as cyto\n",
    "import dash_bootstrap_components as dbc\n",
    "import plotly.express as px"
   ]
  },
  {
   "cell_type": "markdown",
   "metadata": {},
   "source": [
    "### Open Connection to Graph"
   ]
  },
  {
   "cell_type": "code",
   "execution_count": 3,
   "metadata": {},
   "outputs": [],
   "source": [
    "# Connection Params\n",
    "hostname = 'https://leaguerecommender.i.tgcloud.io/'\n",
    "username = 'tigergraph'\n",
    "password = 'tigergraph'\n",
    "graphname = 'ChampionRecommendation'"
   ]
  },
  {
   "cell_type": "code",
   "execution_count": 4,
   "metadata": {},
   "outputs": [
    {
     "name": "stdout",
     "output_type": "stream",
     "text": [
      "Connected!\n"
     ]
    }
   ],
   "source": [
    "conn = tg.TigerGraphConnection(host=hostname, username=username, password=password, graphname=graphname)\n",
    "conn.apiToken = conn.getToken(conn.createSecret())\n",
    "\n",
    "print(\"Connected!\") "
   ]
  },
  {
   "cell_type": "markdown",
   "metadata": {},
   "source": [
    "### Create App"
   ]
  },
  {
   "cell_type": "code",
   "execution_count": 5,
   "metadata": {},
   "outputs": [],
   "source": [
    "app = JupyterDash(external_stylesheets=[dbc.themes.BOOTSTRAP])"
   ]
  },
  {
   "cell_type": "markdown",
   "metadata": {},
   "source": [
    "### Load champion names and lane names"
   ]
  },
  {
   "cell_type": "code",
   "execution_count": 6,
   "metadata": {},
   "outputs": [],
   "source": [
    "# Get champion names\n",
    "import json\n",
    "champion_names = None\n",
    "with open('out_data/champions.txt') as f:\n",
    "    champion_names = json.load(f)"
   ]
  },
  {
   "cell_type": "code",
   "execution_count": 7,
   "metadata": {},
   "outputs": [],
   "source": [
    "# Set different lanes\n",
    "lanes = ['Top', 'Jg', 'Mid', 'Bot', 'Sup']"
   ]
  },
  {
   "cell_type": "markdown",
   "metadata": {},
   "source": [
    "#### Main Graph Functions"
   ]
  },
  {
   "cell_type": "code",
   "execution_count": null,
   "metadata": {},
   "outputs": [],
   "source": [
    "def add_color_key(els):\n",
    "# Add legend nodes\n",
    "  els.append({\n",
    "              'data': {'id': 'top_color_legend', 'label': 'Top'},\n",
    "              'position': {'x': -100, 'y': -250},\n",
    "              'classes': 'yellow',\n",
    "              'locked': True\n",
    "          })\n",
    "  \n",
    "  els.append({\n",
    "          'data': {'id': 'jg_color_legend', 'label': 'Jg'},\n",
    "          'position': {'x': -100, 'y': -125},\n",
    "          'classes': 'green',\n",
    "          'locked': True\n",
    "      })\n",
    "  \n",
    "  els.append({\n",
    "          'data': {'id': 'mid_color_legend', 'label': 'Mid'},\n",
    "          'position': {'x': -100, 'y': 0},\n",
    "          'classes': 'blue',\n",
    "          'locked': True\n",
    "      })\n",
    "  \n",
    "  els.append({\n",
    "          'data': {'id': 'bot_color_legend', 'label': 'Bot'},\n",
    "          'position': {'x': -100, 'y': 125},\n",
    "          'classes': 'red',\n",
    "          'locked': True\n",
    "      })\n",
    "  \n",
    "  els.append({\n",
    "          'data': {'id': 'sup_color_legend', 'label': 'Sup'},\n",
    "          'position': {'x': -100, 'y': 250},\n",
    "          'classes': 'purple',\n",
    "          'locked': True\n",
    "      })\n",
    "  return els"
   ]
  },
  {
   "cell_type": "code",
   "execution_count": 8,
   "metadata": {},
   "outputs": [],
   "source": [
    "def getNetwork(main_champion):\n",
    "    \n",
    "  def top_func(x):\n",
    "      return [(0, -85), (0, -170), (0, -250)][x]\n",
    "\n",
    "  def jg_func(x):\n",
    "      return [(60, -60), (130, -130), (200, -200)][x]\n",
    "  \n",
    "  def mid_func(x):\n",
    "      return [(80, 0), (160, 0), (250, 0)][x]\n",
    "  \n",
    "  def bot_func(x):\n",
    "      return [(60, 60), (130, 130), (200, 200)][x]\n",
    "  \n",
    "  def sup_func(x):\n",
    "      return [(0, 85), (0, 170), (0, 250)][x]\n",
    "      \n",
    "  # Run query\n",
    "  comms = conn.runInstalledQuery(\"GetAllRecs\", params={\"mainChampion\": main_champion})[0]['@@edgeList']\n",
    "\n",
    "  color_map = {'top_rec':'yellow', 'jg_rec': 'green', 'mid_rec': 'blue', 'bot_rec': 'red', 'sup_rec': 'purple'}\n",
    "  positions = {'top_rec': 0, 'jg_rec': 0, 'mid_rec': 0, 'bot_rec': 0, 'sup_rec': 0}\n",
    "  positions_funcs = {'top_rec': top_func, 'jg_rec': jg_func, 'mid_rec': mid_func, 'bot_rec': bot_func, 'sup_rec': sup_func}\n",
    "  vertices = {}\n",
    "  els = []\n",
    "\n",
    "  # Table args\n",
    "  lanes = []\n",
    "  distances = []\n",
    "  champion_name = []\n",
    "  \n",
    "  for entry in comms:\n",
    "    if 'reverse' in entry['e_type']:\n",
    "      continue\n",
    "\n",
    "    # Get to and from nodes\n",
    "    source = entry['from_id']\n",
    "    target = entry['to_id']\n",
    "    edge_type = entry['e_type']\n",
    "    random_num = str(np.random.randint(0, 100))\n",
    "\n",
    "    # Add initial mainChampion\n",
    "    if source not in vertices:\n",
    "      if source == main_champion:\n",
    "        # els.append({'data': {'id': source, 'label': source}, 'classes': 'orange'})\n",
    "        els.append({'data': {'id': source, 'label': source}, 'position': {'x': 0, 'y': 0}, 'locked': True, 'classes': 'orange'})\n",
    "\n",
    "    # Add our target if not already present\n",
    "    if target not in vertices:\n",
    "      # els.append({'data': {'id': target+random_num, 'label': target}, 'classes': color_map[edge_type]})\n",
    "\n",
    "      # Custom layout\n",
    "      x, y = positions_funcs[edge_type](positions[edge_type])\n",
    "      positions[edge_type] += 1\n",
    "      els.append({'data': {'id': target+random_num, 'label': target}, 'position': {'x': x, 'y': y}, 'locked': True, 'classes': color_map[edge_type]})\n",
    "\n",
    "    # Add from and to\n",
    "    els.append({'data': {'source': source, 'target': target+random_num}})\n",
    "    \n",
    "    # TABLE VALUES\n",
    "    # Extract lane\n",
    "    lane = entry['e_type'].split('_')[0].capitalize()\n",
    "    \n",
    "    # Add values to table args\n",
    "    lanes.append(lane)\n",
    "    dist = 1-entry['attributes']['dist']\n",
    "    distances.append(\"{:0.4%}\".format(dist))\n",
    "    champion_name.append(target)\n",
    "  \n",
    "  els = add_color_key(els)\n",
    "  \n",
    "  # Create cytoscape network\n",
    "  stylesheet = [{'selector': 'node',\n",
    "                              'style': {\n",
    "                              'content': 'data(label)'\n",
    "                              }\n",
    "                          }]\n",
    "  \n",
    "  for color in color_map.values():\n",
    "    stylesheet.append({\n",
    "                      'selector': f'.{color}',\n",
    "                      'style': {\n",
    "                          'background-color': color,\n",
    "                        }\n",
    "                      }\n",
    "    )\n",
    "  stylesheet.append({\n",
    "    'selector': '.orange',\n",
    "    'style': {\n",
    "      'background-color': 'orange'\n",
    "    }\n",
    "  })\n",
    "\n",
    "  network = cyto.Cytoscape(\n",
    "                  id='cytoscape',\n",
    "                  elements=els,\n",
    "                  layout={'name': 'circle'},\n",
    "                  stylesheet=stylesheet,\n",
    "                style={'width': '100%', 'height': '500px', 'marginRight':'100px'}\n",
    "              )\n",
    "\n",
    "  # Create Table\n",
    "  table_df = pd.DataFrame(data=(zip(champion_name, lanes, distances)), columns=['Champion', 'Lane', 'Similarity'])\n",
    "  table_df = table_df.sort_values(['Lane', 'Similarity'], ascending=False)\n",
    "  # Sort by list\n",
    "  sorter = ['Top', 'Jg', 'Mid', 'Bot', 'Sup']\n",
    "  table_df = table_df.set_index('Lane')\n",
    "  table_df = table_df.loc[sorter, :].reset_index()\n",
    "  \n",
    "  table = html.Div(\n",
    "    dash_table.DataTable(table_df.to_dict('records'), columns=[{\"name\": i, \"id\": i} for i in table_df.columns], id='champion-table',\n",
    "                         cell_selectable=False, \n",
    "                         style_header={'backgroundColor': 'lightgrey',\n",
    "                                       'fontWeight': 'bold',\n",
    "                                      },\n",
    "                        ),\n",
    "    style={'overflowY': 'scroll'}\n",
    "  )\n",
    "\n",
    "  return network, table"
   ]
  },
  {
   "cell_type": "code",
   "execution_count": 9,
   "metadata": {},
   "outputs": [],
   "source": [
    "def get_new_elements(main_champion: str):\n",
    "    \n",
    "    def top_func(x):\n",
    "        return [(0, -85), (0, -170), (0, -250)][x]\n",
    "\n",
    "    def jg_func(x):\n",
    "        return [(60, -60), (130, -130), (200, -200)][x]\n",
    "    \n",
    "    def mid_func(x):\n",
    "        return [(80, 0), (160, 0), (250, 0)][x]\n",
    "    \n",
    "    def bot_func(x):\n",
    "        return [(60, 60), (130, 130), (200, 200)][x]\n",
    "    \n",
    "    def sup_func(x):\n",
    "        return [(0, 85), (0, 170), (0, 250)][x]\n",
    "        \n",
    "    # Run query\n",
    "    comms = conn.runInstalledQuery(\"GetAllRecs\", params={\"mainChampion\": main_champion})[0]['@@edgeList']\n",
    "\n",
    "    color_map = {'top_rec':'yellow', 'jg_rec': 'green', 'mid_rec': 'blue', 'bot_rec': 'red', 'sup_rec': 'purple'}\n",
    "    positions = {'top_rec': 0, 'jg_rec': 0, 'mid_rec': 0, 'bot_rec': 0, 'sup_rec': 0}\n",
    "    positions_funcs = {'top_rec': top_func, 'jg_rec': jg_func, 'mid_rec': mid_func, 'bot_rec': bot_func, 'sup_rec': sup_func}\n",
    "    vertices = {}\n",
    "    els = []\n",
    "    \n",
    "    # Table args\n",
    "    lanes = []\n",
    "    distances = []\n",
    "    champion_name = []\n",
    "    \n",
    "    for entry in comms:\n",
    "        if 'reverse' in entry['e_type']:\n",
    "            continue\n",
    "\n",
    "        # Get to and from nodes\n",
    "        source = entry['from_id']\n",
    "        target = entry['to_id']\n",
    "        edge_type = entry['e_type']\n",
    "        random_num = str(np.random.randint(0, 1000))\n",
    "\n",
    "        # Add initial mainChampion\n",
    "        if source not in vertices:\n",
    "            if source == main_champion:\n",
    "                # els.append({'data': {'id': source, 'label': source}, 'classes': 'orange'})\n",
    "                \n",
    "                # Custom layout\n",
    "                els.append({'data': {'id': source, 'label': source}, 'position': {'x': 0, 'y': 0}, 'locked': True, 'classes': 'orange'})\n",
    "\n",
    "        # Add our target if not already present\n",
    "        if target not in vertices:\n",
    "            # els.append({'data': {'id': target+random_num, 'label': target}, 'classes': color_map[edge_type]})\n",
    "\n",
    "            # Custom layout\n",
    "            x, y = positions_funcs[edge_type](positions[edge_type])\n",
    "            positions[edge_type] += 1\n",
    "            els.append({'data': {'id': target+random_num, 'label': target}, 'position': {'x': x, 'y': y}, 'locked': True, 'classes': color_map[edge_type]})\n",
    "\n",
    "        # Add from and to\n",
    "        els.append({'data': {'source': source, 'target': target+random_num}})\n",
    "        \n",
    "        # TABLE VALUES\n",
    "        # Extract lane\n",
    "        lane = entry['e_type'].split('_')[0].capitalize()\n",
    "        \n",
    "        # Add values to table args\n",
    "        lanes.append(lane)\n",
    "        dist = 1-entry['attributes']['dist']\n",
    "        distances.append(\"{:0.2%}\".format(dist))\n",
    "        champion_name.append(target)\n",
    "    \n",
    "    els = add_color_key(els)\n",
    "        \n",
    "    table_df = pd.DataFrame(data=(zip(champion_name, lanes, distances)), columns=['Champion', 'Lane', 'Similarity'])\n",
    "    table_df = table_df.sort_values(['Lane', 'Similarity'], ascending=False)\n",
    "    # Sort by list\n",
    "    sorter = ['Top', 'Jg', 'Mid', 'Bot', 'Sup']\n",
    "    table_df = table_df.set_index('Lane')\n",
    "    \n",
    "    return els, table_df.loc[sorter, :].reset_index()"
   ]
  },
  {
   "cell_type": "markdown",
   "metadata": {},
   "source": [
    "#### Callback functions"
   ]
  },
  {
   "cell_type": "code",
   "execution_count": 10,
   "metadata": {},
   "outputs": [],
   "source": [
    "# @app.callback(Output('cytoscape', 'layout'),\n",
    "#               Input('dropdown-update-layout', 'value'))\n",
    "# def update_layout(layout):\n",
    "#     return {\n",
    "#         'name': layout,\n",
    "#         'animate': True\n",
    "#     }"
   ]
  },
  {
   "cell_type": "code",
   "execution_count": 11,
   "metadata": {},
   "outputs": [],
   "source": [
    "@app.callback(Output('cytoscape', 'elements'),\n",
    "              Output('champion-table', 'data'),\n",
    "              Input('dropdown-update-champion', 'value'))\n",
    "def update_champion_graph(value):\n",
    "    \"\"\"\n",
    "    Updates the main graph and table when the champion dropdown value is changed\n",
    "    \"\"\"\n",
    "    (els, table_df) = get_new_elements(value)\n",
    "    return els, table_df.to_dict('records')"
   ]
  },
  {
   "cell_type": "code",
   "execution_count": 12,
   "metadata": {},
   "outputs": [],
   "source": [
    "@app.callback(\n",
    "    Output('champion-table', 'style_data_conditional'),\n",
    "    Input('cytoscape', 'selectedNodeData'))\n",
    "def highlightSelectedNodeInTable(data):\n",
    "    \"\"\"\n",
    "    Highlights the selected row of the node in the main graph selected\n",
    "    \"\"\"\n",
    "    if not data:\n",
    "        return dash.no_update\n",
    "    \n",
    "    champ = [nodeData['label'] for nodeData in data][-1]\n",
    "    return [{'if': {'filter_query': '{Champion} =' + champ},\n",
    "            'backgroundColor': 'yellow'}]"
   ]
  },
  {
   "cell_type": "markdown",
   "metadata": {},
   "source": [
    "### Lane Graph Functions"
   ]
  },
  {
   "cell_type": "code",
   "execution_count": 13,
   "metadata": {},
   "outputs": [],
   "source": [
    "def getLaneNetwork(main_champion):\n",
    "  comms = conn.runInstalledQuery(\"GetTopRecs\", params={\"mainChampion\": main_champion})[0]['@@edgeList']\n",
    "\n",
    "  color_map = {'top_rec':'yellow', 'jg_rec': 'green', 'mid_rec': 'blue', 'bot_rec': 'red', 'sup_rec': 'purple'}\n",
    "  vertices = {}\n",
    "  els = []\n",
    "  \n",
    "  for entry in comms:\n",
    "    if 'reverse' in entry['e_type']:\n",
    "      continue\n",
    "\n",
    "    # Get to and from nodes\n",
    "    source = entry['from_id']\n",
    "    target = entry['to_id']\n",
    "\n",
    "    # Add initial mainChampion\n",
    "    if source not in vertices:\n",
    "      if source == main_champion:\n",
    "        els.append({'data': {'id': source, 'label': source}, 'classes': 'orange'})\n",
    "\n",
    "    # Add our target if not already present\n",
    "    if target not in vertices:\n",
    "      els.append({'data': {'id': target, 'label': target}, 'classes':color_map[entry['e_type']]})\n",
    "\n",
    "    # Add from and to\n",
    "    els.append({'data': {'source': source, 'target': target}})\n",
    "  \n",
    "  stylesheet = [{'selector': 'node',\n",
    "                              'style': {\n",
    "                              'content': 'data(label)'\n",
    "                              }\n",
    "                          }]\n",
    "  \n",
    "  for color in color_map.values():\n",
    "    stylesheet.append({\n",
    "                      'selector': f'.{color}',\n",
    "                      'style': {\n",
    "                          'background-color': color,\n",
    "                        }\n",
    "                      }\n",
    "    )\n",
    "  stylesheet.append({\n",
    "    'selector': '.orange',\n",
    "    'style': {\n",
    "      'background-color': 'orange'\n",
    "    }\n",
    "  })\n",
    "\n",
    "  network = cyto.Cytoscape(\n",
    "                  id='lanegraph',\n",
    "                  elements=els,\n",
    "                  layout={'name': 'circle'},\n",
    "                  stylesheet=stylesheet,\n",
    "                style={'width': '100%', 'height': '500px'}\n",
    "              )\n",
    "\n",
    "  return network"
   ]
  },
  {
   "cell_type": "code",
   "execution_count": 14,
   "metadata": {},
   "outputs": [],
   "source": [
    "def get_new_lane_elements(main_champion: str, lane: str):\n",
    "    comms = conn.runInstalledQuery(f\"Get{lane}Recs\", params={\"mainChampion\": main_champion})[0]['@@edgeList']\n",
    "    color_map = {'top_rec':'yellow', 'jg_rec': 'green', 'mid_rec': 'blue', 'bot_rec': 'red', 'sup_rec': 'purple'}\n",
    "    vertices = {}\n",
    "    els = []\n",
    "    \n",
    "    for entry in comms:\n",
    "        if 'reverse' in entry['e_type']:\n",
    "            continue\n",
    "\n",
    "        # Get to and from nodes\n",
    "        source = entry['from_id']\n",
    "        target = entry['to_id']\n",
    "\n",
    "        # Add initial mainChampion\n",
    "        if source not in vertices:\n",
    "            if source == main_champion:\n",
    "                els.append({'data': {'id': source, 'label': source}, 'classes': 'orange'})\n",
    "\n",
    "        # Add our target if not already present\n",
    "        if target not in vertices:\n",
    "            els.append({'data': {'id': target, 'label': target}, 'classes':color_map[entry['e_type']]})\n",
    "\n",
    "        # Add from and to\n",
    "        els.append({'data': {'source': source, 'target': target}})\n",
    "        \n",
    "    return els"
   ]
  },
  {
   "cell_type": "markdown",
   "metadata": {},
   "source": [
    "#### Callback functions"
   ]
  },
  {
   "cell_type": "code",
   "execution_count": 15,
   "metadata": {},
   "outputs": [],
   "source": [
    "@app.callback(Output('lanegraph', 'elements'),\n",
    "              Input('dropdown-update-champion', 'value'),\n",
    "              Input('dropdown-update-lane', 'value'))\n",
    "def update_lane_rec_champion(champion, lane):\n",
    "    return get_new_lane_elements(champion, lane)"
   ]
  },
  {
   "cell_type": "markdown",
   "metadata": {},
   "source": [
    "## Dash Elements"
   ]
  },
  {
   "cell_type": "code",
   "execution_count": 16,
   "metadata": {},
   "outputs": [],
   "source": [
    "def title_card():\n",
    "    return dbc.Card([\n",
    "                dbc.CardBody([\n",
    "                              html.Center(html.H1(\"League of Legends Champion Recommender\", className='card-title')),\n",
    "                            ])\n",
    "              ],\n",
    "              color='light', # Options include: primary, secondary, info, success, warning, danger, light, dark\n",
    "              style={\n",
    "                  \"width\":\"98rem\",\n",
    "                  \"marginLeft\":\"1rem\",\n",
    "                  \"marginTop\":\"1rem\",\n",
    "                  \"marginBottom\":\"1rem\"\n",
    "                  }\n",
    "            )"
   ]
  },
  {
   "cell_type": "markdown",
   "metadata": {},
   "source": [
    "### Main Graph Elements & Table"
   ]
  },
  {
   "cell_type": "code",
   "execution_count": 17,
   "metadata": {},
   "outputs": [],
   "source": [
    "def champion_recommendations_card():\n",
    "    (network, table) = getNetwork('Aatrox')\n",
    "    \n",
    "    graph_layout_dropdown = dcc.Dropdown(id='dropdown-update-layout',\n",
    "                                    value='circle',\n",
    "                                    clearable=False,\n",
    "                                    options=[\n",
    "                                        {'label': name.capitalize(), 'value': name}\n",
    "                                        for name in ['grid', 'random', 'circle', 'cose', 'concentric']\n",
    "                                    ])\n",
    "    \n",
    "    network_card = dbc.Card([\n",
    "            dbc.CardBody([\n",
    "                html.H1(\"If you play Aatrox, try:\", id='main-graph-title', className='card-title'),\n",
    "                # graph_layout_dropdown,\n",
    "                network,\n",
    "            ])\n",
    "        ],\n",
    "        outline=True,\n",
    "        color='info',\n",
    "        style={\n",
    "            \"width\": \"100%\",\n",
    "            \"marginRight\":\"1rem\",\n",
    "            \"marginTop\":\"1rem\",\n",
    "            \"marginBottom\":\"1rem\"\n",
    "        }          \n",
    "    )\n",
    "    \n",
    "    table_card = dbc.Card([\n",
    "        dbc.CardBody([\n",
    "            html.H1('Top 3 Champions per Lane', className='card-title'),\n",
    "            html.P(\"Recommendations for other champions to play in every lane.\", className='card-body'),\n",
    "            table\n",
    "        ])\n",
    "    ],\n",
    "    outline=True,\n",
    "    color='info',\n",
    "    style={\n",
    "        \"marginTop\":\"1rem\",\n",
    "        \"marginBottom\":\"1rem\",\n",
    "        \"marginLeft\":\"1rem\",\n",
    "        'maxwidth': '692px'\n",
    "    }               \n",
    "    )\n",
    "    \n",
    "    return network_card, table_card"
   ]
  },
  {
   "cell_type": "markdown",
   "metadata": {},
   "source": [
    "### Lane Recs Graph"
   ]
  },
  {
   "cell_type": "code",
   "execution_count": 18,
   "metadata": {},
   "outputs": [],
   "source": [
    "def champion_lane_recs_card():\n",
    "    network = getLaneNetwork('Aatrox')\n",
    "    dropdown = dcc.Dropdown(id='dropdown-update-lane',\n",
    "                            value='Top',\n",
    "                            options=lanes,\n",
    "                            clearable=False,\n",
    "                            )\n",
    "    return dbc.Card([\n",
    "            dbc.CardBody([\n",
    "                html.H1(\"What champions per lane?\", id='lane-graph-title', className='card-title'),\n",
    "                dropdown,\n",
    "                network\n",
    "            ])\n",
    "        ],\n",
    "        outline=True,\n",
    "        color='info',\n",
    "        style={\n",
    "            \"width\": \"100%\",\n",
    "            \"marginRight\":\"5rem\",\n",
    "            \"marginTop\":\"1rem\",\n",
    "            \"marginBottom\":\"1rem\"\n",
    "        }          \n",
    "    )"
   ]
  },
  {
   "cell_type": "markdown",
   "metadata": {},
   "source": [
    "### Champions Who Recommend Card"
   ]
  },
  {
   "cell_type": "code",
   "execution_count": 19,
   "metadata": {},
   "outputs": [],
   "source": [
    "def champsWhoRecStats(main_champion: str):\n",
    "    lane_counts = conn.runInstalledQuery(\"GetWhoRec\", params={\"mainChampion\": main_champion})[0]['LaneCount']\n",
    "    \n",
    "    if len(lane_counts) == 0:\n",
    "        return {'None': 1}, 0, 'None'\n",
    "    \n",
    "    sorted_lane_counts = sorted(lane_counts.items(), key=lambda lane: lane[1], reverse=True)\n",
    "    highest_lane = sorted_lane_counts[0][0]\n",
    "    count = sorted_lane_counts[0][1]\n",
    "    \n",
    "    return lane_counts, count, highest_lane.capitalize()"
   ]
  },
  {
   "cell_type": "code",
   "execution_count": 37,
   "metadata": {},
   "outputs": [],
   "source": [
    "def champions_who_rec_card():\n",
    "    (lane_counts, count, lane) = champsWhoRecStats('Aatrox')\n",
    "    \n",
    "    pie = who_rec_pie_chart(lane_counts)\n",
    "    \n",
    "    return dbc.Card([\n",
    "        dbc.CardBody([\n",
    "            html.H1(\"Champions who recommend Aatrox\", id='who-recommends-title', className='card-title'),\n",
    "            dbc.Row([\n",
    "                dbc.Col([dcc.Graph(id='piechart', figure=pie)], width=8),\n",
    "                dbc.Col([html.P(f'Recommended the most by: {lane}', id='most-recommended-by'), html.P(f'Number who recommend me: {count}', id='num-who-recommend')],width=4)\n",
    "            ])\n",
    "        ])\n",
    "    ],\n",
    "    outline=True,\n",
    "    color='info',\n",
    "    style={\n",
    "        \"width\": \"98.73%\",\n",
    "        \"marginLeft\":\"1rem\",\n",
    "        \"marginTop\":\"1rem\",\n",
    "        \"marginBottom\":\"1rem\"\n",
    "    }  \n",
    ")"
   ]
  },
  {
   "cell_type": "code",
   "execution_count": 35,
   "metadata": {},
   "outputs": [],
   "source": [
    "def who_rec_pie_chart(lane_counts):\n",
    "    lanes = [x.capitalize() for x in list(lane_counts.keys())]\n",
    "    counts= list(lane_counts.values())\n",
    "    \n",
    "    pie = px.pie(values=counts,\n",
    "              names=lanes,\n",
    "              hole=0.2,\n",
    "              width=800,\n",
    "              height=500\n",
    "              )\n",
    "    \n",
    "    pie.update_layout(width=800, title_x=0.5, showlegend=False, margin=dict(l=10, r=10, t=10, b=10))\n",
    "    pie.update_traces(textposition='inside',\n",
    "                    textinfo='label+percent',\n",
    "                    )\n",
    "    \n",
    "    return pie"
   ]
  },
  {
   "cell_type": "markdown",
   "metadata": {},
   "source": [
    "### Callback functions"
   ]
  },
  {
   "cell_type": "code",
   "execution_count": 22,
   "metadata": {},
   "outputs": [],
   "source": [
    "@app.callback(Output('num-who-recommend', 'children'),\n",
    "              Output('most-recommended-by', 'children'),\n",
    "              Output('who-recommends-title', 'children'),\n",
    "              Output('main-graph-title', 'children'),\n",
    "              Output('lane-graph-title', 'children'),\n",
    "              Output('piechart', 'figure'),\n",
    "              Input('dropdown-update-champion', 'value'),\n",
    "              Input('dropdown-update-lane', 'value'))\n",
    "def updateChampionsWhoRec(main_champion: str, lane_selected: str):\n",
    "    (lane_counts, count, lane) = champsWhoRecStats(main_champion)\n",
    "    num_who_rec = f'Number who recommend me: {count}'\n",
    "    rec_by_most = f'Recommended the most by: {lane}'\n",
    "    who_rec_title = f\"Champions who recommend {main_champion}\"\n",
    "    main_graph_title = f'If you play {main_champion}, try:'\n",
    "    lane_graph_title = f'Who to play {lane_selected} if you play {main_champion}'\n",
    "    return num_who_rec, rec_by_most, who_rec_title, main_graph_title, lane_graph_title, who_rec_pie_chart(lane_counts)"
   ]
  },
  {
   "cell_type": "markdown",
   "metadata": {},
   "source": [
    "### Champion Select Dropdown"
   ]
  },
  {
   "cell_type": "code",
   "execution_count": 23,
   "metadata": {},
   "outputs": [],
   "source": [
    "def champion_select_dropdown():\n",
    "    return dcc.Dropdown(id='dropdown-update-champion',\n",
    "                        value='Aatrox',\n",
    "                        options=champion_names,\n",
    "                        clearable=False,\n",
    "                        searchable=True,\n",
    "                        style={\n",
    "                        \"width\": \"98%\",\n",
    "                        \"marginLeft\":\"1rem\",\n",
    "                        \"marginTop\":\"1rem\",\n",
    "                        }  \n",
    "                        )"
   ]
  },
  {
   "cell_type": "code",
   "execution_count": 24,
   "metadata": {},
   "outputs": [],
   "source": [
    "network_card, table_card = champion_recommendations_card()"
   ]
  },
  {
   "cell_type": "code",
   "execution_count": 38,
   "metadata": {},
   "outputs": [
    {
     "name": "stdout",
     "output_type": "stream",
     "text": [
      "Dash app running on http://127.0.0.1:8050/\n"
     ]
    }
   ],
   "source": [
    "app.layout = html.Div(\n",
    "    children=[\n",
    "            html.Div([], className='col-2'),\n",
    "            dbc.Row(children=[\n",
    "            title_card(),\n",
    "            champion_select_dropdown()\n",
    "    ], justify='center'), \n",
    "            dbc.Row([\n",
    "                html.Div([\n",
    "                        champions_who_rec_card(),\n",
    "                        table_card\n",
    "                        ], className='col-6'), \n",
    "                html.Div([network_card, \n",
    "                         champion_lane_recs_card()\n",
    "                         ], className='col-6')]),\n",
    "            html.Div([], className='col-2')],\n",
    "className='row')\n",
    "\n",
    "app.run_server(mode='external', debug=True)"
   ]
  },
  {
   "cell_type": "code",
   "execution_count": null,
   "metadata": {},
   "outputs": [],
   "source": []
  }
 ],
 "metadata": {
  "interpreter": {
   "hash": "d8b23e426a9c693b4aa2462afc6997b239e8381ff9b4a6135e03079b5864c77f"
  },
  "kernelspec": {
   "display_name": "Python 3.9.11 ('env': venv)",
   "language": "python",
   "name": "python3"
  },
  "language_info": {
   "codemirror_mode": {
    "name": "ipython",
    "version": 3
   },
   "file_extension": ".py",
   "mimetype": "text/x-python",
   "name": "python",
   "nbconvert_exporter": "python",
   "pygments_lexer": "ipython3",
   "version": "3.10.1"
  },
  "orig_nbformat": 4
 },
 "nbformat": 4,
 "nbformat_minor": 2
}
