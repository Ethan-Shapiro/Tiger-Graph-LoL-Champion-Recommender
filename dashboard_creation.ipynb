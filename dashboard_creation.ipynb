{
 "cells": [
  {
   "cell_type": "code",
   "execution_count": 7,
   "metadata": {},
   "outputs": [
    {
     "name": "stdout",
     "output_type": "stream",
     "text": [
      "Requirement already satisfied: pyTigerGraph in ./env/lib/python3.9/site-packages (0.0.9.9.2)\n",
      "Requirement already satisfied: pyTigerDriver in ./env/lib/python3.9/site-packages (from pyTigerGraph) (1.0.14)\n",
      "Requirement already satisfied: requests in ./env/lib/python3.9/site-packages (from pyTigerGraph) (2.27.1)\n",
      "Requirement already satisfied: validators in ./env/lib/python3.9/site-packages (from pyTigerGraph) (0.18.2)\n",
      "Requirement already satisfied: pandas in ./env/lib/python3.9/site-packages (from pyTigerGraph) (1.4.2)\n",
      "Requirement already satisfied: python-dateutil>=2.8.1 in ./env/lib/python3.9/site-packages (from pandas->pyTigerGraph) (2.8.2)\n",
      "Requirement already satisfied: pytz>=2020.1 in ./env/lib/python3.9/site-packages (from pandas->pyTigerGraph) (2022.1)\n",
      "Requirement already satisfied: numpy>=1.18.5 in ./env/lib/python3.9/site-packages (from pandas->pyTigerGraph) (1.22.3)\n",
      "Requirement already satisfied: urllib3<1.27,>=1.21.1 in ./env/lib/python3.9/site-packages (from requests->pyTigerGraph) (1.26.9)\n",
      "Requirement already satisfied: certifi>=2017.4.17 in ./env/lib/python3.9/site-packages (from requests->pyTigerGraph) (2021.10.8)\n",
      "Requirement already satisfied: idna<4,>=2.5 in ./env/lib/python3.9/site-packages (from requests->pyTigerGraph) (3.3)\n",
      "Requirement already satisfied: charset-normalizer~=2.0.0 in ./env/lib/python3.9/site-packages (from requests->pyTigerGraph) (2.0.12)\n",
      "Requirement already satisfied: decorator>=3.4.0 in ./env/lib/python3.9/site-packages (from validators->pyTigerGraph) (5.1.1)\n",
      "Requirement already satisfied: six>=1.4.0 in ./env/lib/python3.9/site-packages (from validators->pyTigerGraph) (1.16.0)\n",
      "Requirement already satisfied: python-dotenv in ./env/lib/python3.9/site-packages (0.20.0)\n"
     ]
    }
   ],
   "source": [
    "!pip install pyTigerGraph\n",
    "!pip install -q jupyter-dash\n",
    "!pip install python-dotenv"
   ]
  },
  {
   "cell_type": "code",
   "execution_count": 8,
   "metadata": {},
   "outputs": [],
   "source": [
    "# Imports\n",
    "import pandas as pd\n",
    "import numpy as np\n",
    "import pyTigerGraph as tg\n",
    "import dash\n",
    "from jupyter_dash import JupyterDash\n",
    "from dash import html"
   ]
  },
  {
   "cell_type": "markdown",
   "metadata": {},
   "source": [
    "### Open Connection to Graph"
   ]
  },
  {
   "cell_type": "code",
   "execution_count": null,
   "metadata": {},
   "outputs": [],
   "source": [
    "# Connection Params\n",
    "hostname = 'https://leaguerecommender.i.tgcloud.io/'\n",
    "username = 'tigergraph'\n",
    "password = 'tigergraph'\n",
    "graphname = 'Top3ChampionRecommender'"
   ]
  },
  {
   "cell_type": "code",
   "execution_count": null,
   "metadata": {},
   "outputs": [],
   "source": [
    "conn = tg.TigerGraphConnection(host=hostname, username=username, password=password, graphname=graphname)\n",
    "conn.apiToken = conn.getToken(conn.createSecret())\n",
    "\n",
    "print(\"Connected!\")"
   ]
  },
  {
   "cell_type": "markdown",
   "metadata": {},
   "source": [
    "### Create Dashboard"
   ]
  },
  {
   "cell_type": "code",
   "execution_count": 6,
   "metadata": {},
   "outputs": [
    {
     "name": "stderr",
     "output_type": "stream",
     "text": [
      "\u001b[33m * Tip: There are .env or .flaskenv files present. Do \"pip install python-dotenv\" to use them.\u001b[0m\n"
     ]
    },
    {
     "name": "stdout",
     "output_type": "stream",
     "text": [
      "Dash app running on http://127.0.0.1:8050/\n"
     ]
    }
   ],
   "source": [
    "app = JupyterDash(__name__)\n",
    "\n",
    "app.layout = html.Div(children=[\n",
    "    html.P(children='Hello Dash'),\n",
    "\n",
    "])\n",
    "\n",
    "app.run_server(mode='external')"
   ]
  },
  {
   "cell_type": "code",
   "execution_count": null,
   "metadata": {},
   "outputs": [],
   "source": []
  }
 ],
 "metadata": {
  "interpreter": {
   "hash": "d8b23e426a9c693b4aa2462afc6997b239e8381ff9b4a6135e03079b5864c77f"
  },
  "kernelspec": {
   "display_name": "Python 3.9.11 ('env': venv)",
   "language": "python",
   "name": "python3"
  },
  "language_info": {
   "codemirror_mode": {
    "name": "ipython",
    "version": 3
   },
   "file_extension": ".py",
   "mimetype": "text/x-python",
   "name": "python",
   "nbconvert_exporter": "python",
   "pygments_lexer": "ipython3",
   "version": "3.9.11"
  },
  "orig_nbformat": 4
 },
 "nbformat": 4,
 "nbformat_minor": 2
}
