{
 "cells": [
  {
   "cell_type": "code",
   "execution_count": 1,
   "metadata": {},
   "outputs": [
    {
     "name": "stdout",
     "output_type": "stream",
     "text": [
      "Collecting pyTigerGraph\n",
      "  Downloading pyTigerGraph-0.0.9.9.2-py3-none-any.whl (22 kB)\n",
      "Requirement already satisfied: requests in c:\\repository\\tiger-graph-lol-champion-recommender\\env\\lib\\site-packages (from pyTigerGraph) (2.27.1)\n",
      "Collecting pyTigerDriver\n",
      "  Downloading pyTigerDriver-1.0.14-py3-none-any.whl (8.7 kB)\n",
      "Requirement already satisfied: pandas in c:\\repository\\tiger-graph-lol-champion-recommender\\env\\lib\\site-packages (from pyTigerGraph) (1.4.2)\n",
      "Collecting validators\n",
      "  Downloading validators-0.18.2-py3-none-any.whl (19 kB)\n",
      "Requirement already satisfied: numpy>=1.21.0 in c:\\repository\\tiger-graph-lol-champion-recommender\\env\\lib\\site-packages (from pandas->pyTigerGraph) (1.22.3)\n",
      "Requirement already satisfied: pytz>=2020.1 in c:\\repository\\tiger-graph-lol-champion-recommender\\env\\lib\\site-packages (from pandas->pyTigerGraph) (2022.1)\n",
      "Requirement already satisfied: python-dateutil>=2.8.1 in c:\\repository\\tiger-graph-lol-champion-recommender\\env\\lib\\site-packages (from pandas->pyTigerGraph) (2.8.2)\n",
      "Requirement already satisfied: six>=1.5 in c:\\repository\\tiger-graph-lol-champion-recommender\\env\\lib\\site-packages (from python-dateutil>=2.8.1->pandas->pyTigerGraph) (1.16.0)\n",
      "Requirement already satisfied: certifi>=2017.4.17 in c:\\repository\\tiger-graph-lol-champion-recommender\\env\\lib\\site-packages (from requests->pyTigerGraph) (2021.10.8)\n",
      "Requirement already satisfied: urllib3<1.27,>=1.21.1 in c:\\repository\\tiger-graph-lol-champion-recommender\\env\\lib\\site-packages (from requests->pyTigerGraph) (1.26.9)\n",
      "Requirement already satisfied: charset-normalizer~=2.0.0 in c:\\repository\\tiger-graph-lol-champion-recommender\\env\\lib\\site-packages (from requests->pyTigerGraph) (2.0.12)\n",
      "Requirement already satisfied: idna<4,>=2.5 in c:\\repository\\tiger-graph-lol-champion-recommender\\env\\lib\\site-packages (from requests->pyTigerGraph) (3.3)\n",
      "Requirement already satisfied: decorator>=3.4.0 in c:\\repository\\tiger-graph-lol-champion-recommender\\env\\lib\\site-packages (from validators->pyTigerGraph) (5.1.1)\n",
      "Installing collected packages: validators, pyTigerDriver, pyTigerGraph\n",
      "Successfully installed pyTigerDriver-1.0.14 pyTigerGraph-0.0.9.9.2 validators-0.18.2\n"
     ]
    },
    {
     "name": "stderr",
     "output_type": "stream",
     "text": [
      "WARNING: You are using pip version 21.2.4; however, version 22.0.4 is available.\n",
      "You should consider upgrading via the 'C:\\Repository\\Tiger-Graph-LoL-Champion-Recommender\\env\\Scripts\\python.exe -m pip install --upgrade pip' command.\n",
      "WARNING: You are using pip version 21.2.4; however, version 22.0.4 is available.\n",
      "You should consider upgrading via the 'C:\\Repository\\Tiger-Graph-LoL-Champion-Recommender\\env\\Scripts\\python.exe -m pip install --upgrade pip' command.\n"
     ]
    },
    {
     "name": "stdout",
     "output_type": "stream",
     "text": [
      "Collecting python-dotenv\n",
      "  Using cached python_dotenv-0.20.0-py3-none-any.whl (17 kB)\n",
      "Installing collected packages: python-dotenv\n",
      "Successfully installed python-dotenv-0.20.0\n"
     ]
    },
    {
     "name": "stderr",
     "output_type": "stream",
     "text": [
      "WARNING: You are using pip version 21.2.4; however, version 22.0.4 is available.\n",
      "You should consider upgrading via the 'C:\\Repository\\Tiger-Graph-LoL-Champion-Recommender\\env\\Scripts\\python.exe -m pip install --upgrade pip' command.\n"
     ]
    }
   ],
   "source": [
    "!pip install pyTigerGraph\n",
    "!pip install -q jupyter-dash\n",
    "!pip install python-dotenv"
   ]
  },
  {
   "cell_type": "code",
   "execution_count": 8,
   "metadata": {},
   "outputs": [],
   "source": [
    "# Imports\n",
    "import pandas as pd\n",
    "import numpy as np\n",
    "import pyTigerGraph as tg\n",
    "import dash\n",
    "from jupyter_dash import JupyterDash\n",
    "from dash import html"
   ]
  },
  {
   "cell_type": "markdown",
   "metadata": {},
   "source": [
    "### Open Connection to Graph"
   ]
  },
  {
   "cell_type": "code",
   "execution_count": 9,
   "metadata": {},
   "outputs": [],
   "source": [
    "# Connection Params\n",
    "hostname = 'https://leaguerecommender.i.tgcloud.io/'\n",
    "username = 'tigergraph'\n",
    "password = 'tigergraph'\n",
    "graphname = 'ChampionRecommender'"
   ]
  },
  {
   "cell_type": "code",
   "execution_count": 13,
   "metadata": {},
   "outputs": [
    {
     "ename": "IndexError",
     "evalue": "list index out of range",
     "output_type": "error",
     "traceback": [
      "\u001b[0;31m---------------------------------------------------------------------------\u001b[0m",
      "\u001b[0;31mIndexError\u001b[0m                                Traceback (most recent call last)",
      "\u001b[1;32m/Users/ethanshapiro/Repositories/Tiger-Graph-LoL-Champion-Recommender/dashboard_creation.ipynb Cell 5'\u001b[0m in \u001b[0;36m<cell line: 2>\u001b[0;34m()\u001b[0m\n\u001b[1;32m      <a href='vscode-notebook-cell:/Users/ethanshapiro/Repositories/Tiger-Graph-LoL-Champion-Recommender/dashboard_creation.ipynb#ch0000004?line=0'>1</a>\u001b[0m conn \u001b[39m=\u001b[39m tg\u001b[39m.\u001b[39mTigerGraphConnection(host\u001b[39m=\u001b[39mhostname, username\u001b[39m=\u001b[39musername, password\u001b[39m=\u001b[39mpassword, graphname\u001b[39m=\u001b[39mgraphname)\n\u001b[0;32m----> <a href='vscode-notebook-cell:/Users/ethanshapiro/Repositories/Tiger-Graph-LoL-Champion-Recommender/dashboard_creation.ipynb#ch0000004?line=1'>2</a>\u001b[0m conn\u001b[39m.\u001b[39mapiToken \u001b[39m=\u001b[39m conn\u001b[39m.\u001b[39mgetToken(conn\u001b[39m.\u001b[39;49mcreateSecret())\n\u001b[1;32m      <a href='vscode-notebook-cell:/Users/ethanshapiro/Repositories/Tiger-Graph-LoL-Champion-Recommender/dashboard_creation.ipynb#ch0000004?line=3'>4</a>\u001b[0m \u001b[39mprint\u001b[39m(\u001b[39m\"\u001b[39m\u001b[39mConnected!\u001b[39m\u001b[39m\"\u001b[39m)\n",
      "File \u001b[0;32m~/Repositories/Tiger-Graph-LoL-Champion-Recommender/env/lib/python3.9/site-packages/pyTigerGraph/pyTigerGraph.py:1987\u001b[0m, in \u001b[0;36mTigerGraphConnection.createSecret\u001b[0;34m(self, alias)\u001b[0m\n\u001b[1;32m   <a href='file:///Users/ethanshapiro/Repositories/Tiger-Graph-LoL-Champion-Recommender/env/lib/python3.9/site-packages/pyTigerGraph/pyTigerGraph.py?line=1984'>1985</a>\u001b[0m         errorMsg \u001b[39m+\u001b[39m\u001b[39m=\u001b[39m \u001b[39m\"\u001b[39m\u001b[39mexists.\u001b[39m\u001b[39m\"\u001b[39m\n\u001b[1;32m   <a href='file:///Users/ethanshapiro/Repositories/Tiger-Graph-LoL-Champion-Recommender/env/lib/python3.9/site-packages/pyTigerGraph/pyTigerGraph.py?line=1985'>1986</a>\u001b[0m         \u001b[39mraise\u001b[39;00m \u001b[39mException\u001b[39;00m(errorMsg)\n\u001b[0;32m-> <a href='file:///Users/ethanshapiro/Repositories/Tiger-Graph-LoL-Champion-Recommender/env/lib/python3.9/site-packages/pyTigerGraph/pyTigerGraph.py?line=1986'>1987</a>\u001b[0m     secret \u001b[39m=\u001b[39m \u001b[39m\"\u001b[39;49m\u001b[39m\"\u001b[39;49m\u001b[39m.\u001b[39;49mjoin(response)\u001b[39m.\u001b[39;49mreplace(\u001b[39m'\u001b[39;49m\u001b[39m\\n\u001b[39;49;00m\u001b[39m'\u001b[39;49m, \u001b[39m'\u001b[39;49m\u001b[39m'\u001b[39;49m)\u001b[39m.\u001b[39;49msplit(\u001b[39m'\u001b[39;49m\u001b[39mThe secret: \u001b[39;49m\u001b[39m'\u001b[39;49m)[\u001b[39m1\u001b[39;49m]\u001b[39m.\u001b[39msplit(\u001b[39m\"\u001b[39m\u001b[39m \u001b[39m\u001b[39m\"\u001b[39m)[\u001b[39m0\u001b[39m]\n\u001b[1;32m   <a href='file:///Users/ethanshapiro/Repositories/Tiger-Graph-LoL-Champion-Recommender/env/lib/python3.9/site-packages/pyTigerGraph/pyTigerGraph.py?line=1987'>1988</a>\u001b[0m     \u001b[39mreturn\u001b[39;00m secret\u001b[39m.\u001b[39mstrip()\n\u001b[1;32m   <a href='file:///Users/ethanshapiro/Repositories/Tiger-Graph-LoL-Champion-Recommender/env/lib/python3.9/site-packages/pyTigerGraph/pyTigerGraph.py?line=1988'>1989</a>\u001b[0m \u001b[39mexcept\u001b[39;00m:\n",
      "\u001b[0;31mIndexError\u001b[0m: list index out of range"
     ]
    }
   ],
   "source": [
    "conn = tg.TigerGraphConnection(host=hostname, username=username, password=password, graphname=graphname)\n",
    "conn.apiToken = conn.getToken(conn.createSecret())\n",
    "\n",
    "print(\"Connected!\")"
   ]
  },
  {
   "cell_type": "markdown",
   "metadata": {},
   "source": [
    "### Create Functions to Call Queries"
   ]
  },
  {
   "cell_type": "code",
   "execution_count": 12,
   "metadata": {},
   "outputs": [
    {
     "ename": "TigerGraphException",
     "evalue": "(\"The graph name 'ChampionRecommender' parsed from the url = '/graph/ChampionRecommender/vertices/champion/Ziggs' is not found, please provide a valid graph name.\", 'REST-1004')",
     "output_type": "error",
     "traceback": [
      "\u001b[0;31m---------------------------------------------------------------------------\u001b[0m",
      "\u001b[0;31mTigerGraphException\u001b[0m                       Traceback (most recent call last)",
      "\u001b[1;32m/Users/ethanshapiro/Repositories/Tiger-Graph-LoL-Champion-Recommender/dashboard_creation.ipynb Cell 7'\u001b[0m in \u001b[0;36m<cell line: 1>\u001b[0;34m()\u001b[0m\n\u001b[0;32m----> <a href='vscode-notebook-cell:/Users/ethanshapiro/Repositories/Tiger-Graph-LoL-Champion-Recommender/dashboard_creation.ipynb#ch0000009?line=0'>1</a>\u001b[0m conn\u001b[39m.\u001b[39;49mgetVerticesById(\u001b[39m'\u001b[39;49m\u001b[39mchampion\u001b[39;49m\u001b[39m'\u001b[39;49m, \u001b[39m'\u001b[39;49m\u001b[39mZiggs\u001b[39;49m\u001b[39m'\u001b[39;49m)\n",
      "File \u001b[0;32m~/Repositories/Tiger-Graph-LoL-Champion-Recommender/env/lib/python3.9/site-packages/pyTigerGraph/pyTigerGraph.py:518\u001b[0m, in \u001b[0;36mTigerGraphConnection.getVerticesById\u001b[0;34m(self, vertexType, vertexIds, fmt, withId, withType)\u001b[0m\n\u001b[1;32m    <a href='file:///Users/ethanshapiro/Repositories/Tiger-Graph-LoL-Champion-Recommender/env/lib/python3.9/site-packages/pyTigerGraph/pyTigerGraph.py?line=515'>516</a>\u001b[0m ret \u001b[39m=\u001b[39m []\n\u001b[1;32m    <a href='file:///Users/ethanshapiro/Repositories/Tiger-Graph-LoL-Champion-Recommender/env/lib/python3.9/site-packages/pyTigerGraph/pyTigerGraph.py?line=516'>517</a>\u001b[0m \u001b[39mfor\u001b[39;00m vid \u001b[39min\u001b[39;00m vids:\n\u001b[0;32m--> <a href='file:///Users/ethanshapiro/Repositories/Tiger-Graph-LoL-Champion-Recommender/env/lib/python3.9/site-packages/pyTigerGraph/pyTigerGraph.py?line=517'>518</a>\u001b[0m     ret \u001b[39m+\u001b[39m\u001b[39m=\u001b[39m \u001b[39mself\u001b[39;49m\u001b[39m.\u001b[39;49m_get(url \u001b[39m+\u001b[39;49m \u001b[39mself\u001b[39;49m\u001b[39m.\u001b[39;49msafeChar(vid))\n\u001b[1;32m    <a href='file:///Users/ethanshapiro/Repositories/Tiger-Graph-LoL-Champion-Recommender/env/lib/python3.9/site-packages/pyTigerGraph/pyTigerGraph.py?line=519'>520</a>\u001b[0m \u001b[39mif\u001b[39;00m fmt \u001b[39m==\u001b[39m \u001b[39m\"\u001b[39m\u001b[39mjson\u001b[39m\u001b[39m\"\u001b[39m:\n\u001b[1;32m    <a href='file:///Users/ethanshapiro/Repositories/Tiger-Graph-LoL-Champion-Recommender/env/lib/python3.9/site-packages/pyTigerGraph/pyTigerGraph.py?line=520'>521</a>\u001b[0m     \u001b[39mreturn\u001b[39;00m json\u001b[39m.\u001b[39mdumps(ret)\n",
      "File \u001b[0;32m~/Repositories/Tiger-Graph-LoL-Champion-Recommender/env/lib/python3.9/site-packages/pyTigerGraph/pyTigerGraph.py:214\u001b[0m, in \u001b[0;36mTigerGraphConnection._get\u001b[0;34m(self, url, authMode, headers, resKey, skipCheck, params)\u001b[0m\n\u001b[1;32m    <a href='file:///Users/ethanshapiro/Repositories/Tiger-Graph-LoL-Champion-Recommender/env/lib/python3.9/site-packages/pyTigerGraph/pyTigerGraph.py?line=208'>209</a>\u001b[0m \u001b[39mdef\u001b[39;00m \u001b[39m_get\u001b[39m(\u001b[39mself\u001b[39m, url, authMode\u001b[39m=\u001b[39m\u001b[39m\"\u001b[39m\u001b[39mtoken\u001b[39m\u001b[39m\"\u001b[39m, headers\u001b[39m=\u001b[39m\u001b[39mNone\u001b[39;00m, resKey\u001b[39m=\u001b[39m\u001b[39m\"\u001b[39m\u001b[39mresults\u001b[39m\u001b[39m\"\u001b[39m, skipCheck\u001b[39m=\u001b[39m\u001b[39mFalse\u001b[39;00m, params\u001b[39m=\u001b[39m\u001b[39mNone\u001b[39;00m):\n\u001b[1;32m    <a href='file:///Users/ethanshapiro/Repositories/Tiger-Graph-LoL-Champion-Recommender/env/lib/python3.9/site-packages/pyTigerGraph/pyTigerGraph.py?line=209'>210</a>\u001b[0m     \u001b[39m\"\"\"Generic GET method.\u001b[39;00m\n\u001b[1;32m    <a href='file:///Users/ethanshapiro/Repositories/Tiger-Graph-LoL-Champion-Recommender/env/lib/python3.9/site-packages/pyTigerGraph/pyTigerGraph.py?line=210'>211</a>\u001b[0m \n\u001b[1;32m    <a href='file:///Users/ethanshapiro/Repositories/Tiger-Graph-LoL-Champion-Recommender/env/lib/python3.9/site-packages/pyTigerGraph/pyTigerGraph.py?line=211'>212</a>\u001b[0m \u001b[39m    For argument details, see `_req`.\u001b[39;00m\n\u001b[1;32m    <a href='file:///Users/ethanshapiro/Repositories/Tiger-Graph-LoL-Champion-Recommender/env/lib/python3.9/site-packages/pyTigerGraph/pyTigerGraph.py?line=212'>213</a>\u001b[0m \u001b[39m    \"\"\"\u001b[39;00m\n\u001b[0;32m--> <a href='file:///Users/ethanshapiro/Repositories/Tiger-Graph-LoL-Champion-Recommender/env/lib/python3.9/site-packages/pyTigerGraph/pyTigerGraph.py?line=213'>214</a>\u001b[0m     res \u001b[39m=\u001b[39m \u001b[39mself\u001b[39;49m\u001b[39m.\u001b[39;49m_req(\u001b[39m\"\u001b[39;49m\u001b[39mGET\u001b[39;49m\u001b[39m\"\u001b[39;49m, url, authMode, headers, \u001b[39mNone\u001b[39;49;00m, resKey, skipCheck, params)\n\u001b[1;32m    <a href='file:///Users/ethanshapiro/Repositories/Tiger-Graph-LoL-Champion-Recommender/env/lib/python3.9/site-packages/pyTigerGraph/pyTigerGraph.py?line=214'>215</a>\u001b[0m     \u001b[39mreturn\u001b[39;00m res\n",
      "File \u001b[0;32m~/Repositories/Tiger-Graph-LoL-Champion-Recommender/env/lib/python3.9/site-packages/pyTigerGraph/pyTigerGraph.py:200\u001b[0m, in \u001b[0;36mTigerGraphConnection._req\u001b[0;34m(self, method, url, authMode, headers, data, resKey, skipCheck, params)\u001b[0m\n\u001b[1;32m    <a href='file:///Users/ethanshapiro/Repositories/Tiger-Graph-LoL-Champion-Recommender/env/lib/python3.9/site-packages/pyTigerGraph/pyTigerGraph.py?line=197'>198</a>\u001b[0m res \u001b[39m=\u001b[39m json\u001b[39m.\u001b[39mloads(res\u001b[39m.\u001b[39mtext)\n\u001b[1;32m    <a href='file:///Users/ethanshapiro/Repositories/Tiger-Graph-LoL-Champion-Recommender/env/lib/python3.9/site-packages/pyTigerGraph/pyTigerGraph.py?line=198'>199</a>\u001b[0m \u001b[39mif\u001b[39;00m \u001b[39mnot\u001b[39;00m skipCheck:\n\u001b[0;32m--> <a href='file:///Users/ethanshapiro/Repositories/Tiger-Graph-LoL-Champion-Recommender/env/lib/python3.9/site-packages/pyTigerGraph/pyTigerGraph.py?line=199'>200</a>\u001b[0m     \u001b[39mself\u001b[39;49m\u001b[39m.\u001b[39;49m_errorCheck(res)\n\u001b[1;32m    <a href='file:///Users/ethanshapiro/Repositories/Tiger-Graph-LoL-Champion-Recommender/env/lib/python3.9/site-packages/pyTigerGraph/pyTigerGraph.py?line=200'>201</a>\u001b[0m \u001b[39mif\u001b[39;00m \u001b[39mnot\u001b[39;00m resKey:\n\u001b[1;32m    <a href='file:///Users/ethanshapiro/Repositories/Tiger-Graph-LoL-Champion-Recommender/env/lib/python3.9/site-packages/pyTigerGraph/pyTigerGraph.py?line=201'>202</a>\u001b[0m     \u001b[39mif\u001b[39;00m \u001b[39mself\u001b[39m\u001b[39m.\u001b[39mdebug:\n",
      "File \u001b[0;32m~/Repositories/Tiger-Graph-LoL-Champion-Recommender/env/lib/python3.9/site-packages/pyTigerGraph/pyTigerGraph.py:144\u001b[0m, in \u001b[0;36mTigerGraphConnection._errorCheck\u001b[0;34m(self, res)\u001b[0m\n\u001b[1;32m    <a href='file:///Users/ethanshapiro/Repositories/Tiger-Graph-LoL-Champion-Recommender/env/lib/python3.9/site-packages/pyTigerGraph/pyTigerGraph.py?line=137'>138</a>\u001b[0m \u001b[39m\"\"\"\u001b[39;00m\n\u001b[1;32m    <a href='file:///Users/ethanshapiro/Repositories/Tiger-Graph-LoL-Champion-Recommender/env/lib/python3.9/site-packages/pyTigerGraph/pyTigerGraph.py?line=138'>139</a>\u001b[0m \u001b[39mChecks if the JSON document returned by an endpoint has contains error:\u001b[39;00m\n\u001b[1;32m    <a href='file:///Users/ethanshapiro/Repositories/Tiger-Graph-LoL-Champion-Recommender/env/lib/python3.9/site-packages/pyTigerGraph/pyTigerGraph.py?line=139'>140</a>\u001b[0m \u001b[39mtrue; if so, it raises an exception.\u001b[39;00m\n\u001b[1;32m    <a href='file:///Users/ethanshapiro/Repositories/Tiger-Graph-LoL-Champion-Recommender/env/lib/python3.9/site-packages/pyTigerGraph/pyTigerGraph.py?line=140'>141</a>\u001b[0m \u001b[39m\"\"\"\u001b[39;00m\n\u001b[1;32m    <a href='file:///Users/ethanshapiro/Repositories/Tiger-Graph-LoL-Champion-Recommender/env/lib/python3.9/site-packages/pyTigerGraph/pyTigerGraph.py?line=141'>142</a>\u001b[0m \u001b[39mif\u001b[39;00m \u001b[39m\"\u001b[39m\u001b[39merror\u001b[39m\u001b[39m\"\u001b[39m \u001b[39min\u001b[39;00m res \u001b[39mand\u001b[39;00m res[\u001b[39m\"\u001b[39m\u001b[39merror\u001b[39m\u001b[39m\"\u001b[39m] \u001b[39mand\u001b[39;00m res[\u001b[39m\"\u001b[39m\u001b[39merror\u001b[39m\u001b[39m\"\u001b[39m] \u001b[39m!=\u001b[39m \u001b[39m\"\u001b[39m\u001b[39mfalse\u001b[39m\u001b[39m\"\u001b[39m:\n\u001b[1;32m    <a href='file:///Users/ethanshapiro/Repositories/Tiger-Graph-LoL-Champion-Recommender/env/lib/python3.9/site-packages/pyTigerGraph/pyTigerGraph.py?line=142'>143</a>\u001b[0m     \u001b[39m# Endpoint might return string \"false\" rather than Boolean false\u001b[39;00m\n\u001b[0;32m--> <a href='file:///Users/ethanshapiro/Repositories/Tiger-Graph-LoL-Champion-Recommender/env/lib/python3.9/site-packages/pyTigerGraph/pyTigerGraph.py?line=143'>144</a>\u001b[0m     \u001b[39mraise\u001b[39;00m TigerGraphException(res[\u001b[39m\"\u001b[39m\u001b[39mmessage\u001b[39m\u001b[39m\"\u001b[39m], (res[\u001b[39m\"\u001b[39m\u001b[39mcode\u001b[39m\u001b[39m\"\u001b[39m] \u001b[39mif\u001b[39;00m \u001b[39m\"\u001b[39m\u001b[39mcode\u001b[39m\u001b[39m\"\u001b[39m \u001b[39min\u001b[39;00m res \u001b[39melse\u001b[39;00m \u001b[39mNone\u001b[39;00m))\n",
      "\u001b[0;31mTigerGraphException\u001b[0m: (\"The graph name 'ChampionRecommender' parsed from the url = '/graph/ChampionRecommender/vertices/champion/Ziggs' is not found, please provide a valid graph name.\", 'REST-1004')"
     ]
    }
   ],
   "source": [
    "conn.getVerticesById('champion', 'Ziggs')"
   ]
  },
  {
   "cell_type": "markdown",
   "metadata": {},
   "source": [
    "### Create Dashboard"
   ]
  },
  {
   "cell_type": "code",
   "execution_count": 6,
   "metadata": {},
   "outputs": [
    {
     "name": "stderr",
     "output_type": "stream",
     "text": [
      "\u001b[33m * Tip: There are .env or .flaskenv files present. Do \"pip install python-dotenv\" to use them.\u001b[0m\n"
     ]
    },
    {
     "name": "stdout",
     "output_type": "stream",
     "text": [
      "Dash app running on http://127.0.0.1:8050/\n"
     ]
    }
   ],
   "source": [
    "app = JupyterDash(__name__)\n",
    "\n",
    "app.layout = html.Div(children=[\n",
    "    html.P(children='Hello Dash'),\n",
    "\n",
    "])\n",
    "\n",
    "app.run_server(mode='external')"
   ]
  },
  {
   "cell_type": "code",
   "execution_count": null,
   "metadata": {},
   "outputs": [],
   "source": []
  }
 ],
 "metadata": {
  "interpreter": {
   "hash": "d8b23e426a9c693b4aa2462afc6997b239e8381ff9b4a6135e03079b5864c77f"
  },
  "kernelspec": {
   "display_name": "Python 3.9.11 ('env': venv)",
   "language": "python",
   "name": "python3"
  },
  "language_info": {
   "codemirror_mode": {
    "name": "ipython",
    "version": 3
   },
   "file_extension": ".py",
   "mimetype": "text/x-python",
   "name": "python",
   "nbconvert_exporter": "python",
   "pygments_lexer": "ipython3",
   "version": "3.10.1"
  },
  "orig_nbformat": 4
 },
 "nbformat": 4,
 "nbformat_minor": 2
}
